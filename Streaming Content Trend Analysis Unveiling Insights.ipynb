{
 "cells": [
  {
   "cell_type": "markdown",
   "id": "1893fd38-f706-42ea-9b82-6121f310fc3e",
   "metadata": {},
   "source": [
    "# <center>Streaming Content Trend Analysis: Unveiling Insights"
   ]
  },
  {
   "cell_type": "markdown",
   "id": "dc4192f1-1297-4c0f-8d7b-87593a594061",
   "metadata": {},
   "source": [
    "\n",
    "### Project Introduction: Streaming Content Trend Analysis\n",
    "\n",
    "Welcome to the Streaming Content Trend Analysis project! \n",
    "\n",
    "In this analysis, I delve into the fascinating world of streaming platforms to uncover insights and trends shaping the industry. \n",
    "\n",
    "By examining key aspects such as content release patterns, genre popularity, director and actor prominence, and more, I aim to provide valuable insights into the dynamics of the streaming content landscape. \n",
    "\n",
    "Through meticulous data analysis and visualization techniques, I unravel trends that inform strategic decision-making for stakeholders in the streaming industry.\n",
    "\n",
    "Let's embark on this journey to unveil the trends shaping the future of streaming content!\n",
    "\n"
   ]
  },
  {
   "cell_type": "code",
   "execution_count": 484,
   "id": "889af302-ce79-41eb-9c14-486e59eaf022",
   "metadata": {},
   "outputs": [],
   "source": [
    "import pandas as pd\n",
    "import numpy as np\n",
    "import matplotlib.pyplot as plt\n",
    "import seaborn as sns"
   ]
  },
  {
   "cell_type": "code",
   "execution_count": 485,
   "id": "ecd9d1c5-360c-4a2a-8477-5b80935c8f1b",
   "metadata": {},
   "outputs": [],
   "source": [
    "# upload data\n",
    "netflix = pd.read_csv('/Users/karanvirgosal/Desktop/netflix_titles.csv')\n",
    "amazon = pd.read_csv('/Users/karanvirgosal/Desktop/amazon_prime_titles.csv')\n",
    "disney = pd.read_csv('/Users/karanvirgosal/Desktop/disney_plus_titles.csv')"
   ]
  },
  {
   "cell_type": "markdown",
   "id": "4758d9e1-e690-4e0c-b272-5d694f8c9aea",
   "metadata": {},
   "source": [
    "## Make ids unique since they overlap"
   ]
  },
  {
   "cell_type": "code",
   "execution_count": 486,
   "id": "c65d21f1-a05c-4475-ac86-8abc5e7deea5",
   "metadata": {},
   "outputs": [
    {
     "data": {
      "text/html": [
       "<div>\n",
       "<style scoped>\n",
       "    .dataframe tbody tr th:only-of-type {\n",
       "        vertical-align: middle;\n",
       "    }\n",
       "\n",
       "    .dataframe tbody tr th {\n",
       "        vertical-align: top;\n",
       "    }\n",
       "\n",
       "    .dataframe thead th {\n",
       "        text-align: right;\n",
       "    }\n",
       "</style>\n",
       "<table border=\"1\" class=\"dataframe\">\n",
       "  <thead>\n",
       "    <tr style=\"text-align: right;\">\n",
       "      <th></th>\n",
       "      <th>show_id</th>\n",
       "      <th>type</th>\n",
       "      <th>title</th>\n",
       "      <th>director</th>\n",
       "      <th>cast</th>\n",
       "      <th>country</th>\n",
       "      <th>date_added</th>\n",
       "      <th>release_year</th>\n",
       "      <th>rating</th>\n",
       "      <th>duration</th>\n",
       "      <th>listed_in</th>\n",
       "      <th>description</th>\n",
       "    </tr>\n",
       "  </thead>\n",
       "  <tbody>\n",
       "    <tr>\n",
       "      <th>0</th>\n",
       "      <td>n1</td>\n",
       "      <td>Movie</td>\n",
       "      <td>Dick Johnson Is Dead</td>\n",
       "      <td>Kirsten Johnson</td>\n",
       "      <td>NaN</td>\n",
       "      <td>United States</td>\n",
       "      <td>September 25, 2021</td>\n",
       "      <td>2020</td>\n",
       "      <td>PG-13</td>\n",
       "      <td>90 min</td>\n",
       "      <td>Documentaries</td>\n",
       "      <td>As her father nears the end of his life, filmm...</td>\n",
       "    </tr>\n",
       "    <tr>\n",
       "      <th>1</th>\n",
       "      <td>n2</td>\n",
       "      <td>TV Show</td>\n",
       "      <td>Blood &amp; Water</td>\n",
       "      <td>NaN</td>\n",
       "      <td>Ama Qamata, Khosi Ngema, Gail Mabalane, Thaban...</td>\n",
       "      <td>South Africa</td>\n",
       "      <td>September 24, 2021</td>\n",
       "      <td>2021</td>\n",
       "      <td>TV-MA</td>\n",
       "      <td>2 Seasons</td>\n",
       "      <td>International TV Shows, TV Dramas, TV Mysteries</td>\n",
       "      <td>After crossing paths at a party, a Cape Town t...</td>\n",
       "    </tr>\n",
       "    <tr>\n",
       "      <th>2</th>\n",
       "      <td>n3</td>\n",
       "      <td>TV Show</td>\n",
       "      <td>Ganglands</td>\n",
       "      <td>Julien Leclercq</td>\n",
       "      <td>Sami Bouajila, Tracy Gotoas, Samuel Jouy, Nabi...</td>\n",
       "      <td>NaN</td>\n",
       "      <td>September 24, 2021</td>\n",
       "      <td>2021</td>\n",
       "      <td>TV-MA</td>\n",
       "      <td>1 Season</td>\n",
       "      <td>Crime TV Shows, International TV Shows, TV Act...</td>\n",
       "      <td>To protect his family from a powerful drug lor...</td>\n",
       "    </tr>\n",
       "    <tr>\n",
       "      <th>3</th>\n",
       "      <td>n4</td>\n",
       "      <td>TV Show</td>\n",
       "      <td>Jailbirds New Orleans</td>\n",
       "      <td>NaN</td>\n",
       "      <td>NaN</td>\n",
       "      <td>NaN</td>\n",
       "      <td>September 24, 2021</td>\n",
       "      <td>2021</td>\n",
       "      <td>TV-MA</td>\n",
       "      <td>1 Season</td>\n",
       "      <td>Docuseries, Reality TV</td>\n",
       "      <td>Feuds, flirtations and toilet talk go down amo...</td>\n",
       "    </tr>\n",
       "    <tr>\n",
       "      <th>4</th>\n",
       "      <td>n5</td>\n",
       "      <td>TV Show</td>\n",
       "      <td>Kota Factory</td>\n",
       "      <td>NaN</td>\n",
       "      <td>Mayur More, Jitendra Kumar, Ranjan Raj, Alam K...</td>\n",
       "      <td>India</td>\n",
       "      <td>September 24, 2021</td>\n",
       "      <td>2021</td>\n",
       "      <td>TV-MA</td>\n",
       "      <td>2 Seasons</td>\n",
       "      <td>International TV Shows, Romantic TV Shows, TV ...</td>\n",
       "      <td>In a city of coaching centers known to train I...</td>\n",
       "    </tr>\n",
       "  </tbody>\n",
       "</table>\n",
       "</div>"
      ],
      "text/plain": [
       "  show_id     type                  title         director  \\\n",
       "0      n1    Movie   Dick Johnson Is Dead  Kirsten Johnson   \n",
       "1      n2  TV Show          Blood & Water              NaN   \n",
       "2      n3  TV Show              Ganglands  Julien Leclercq   \n",
       "3      n4  TV Show  Jailbirds New Orleans              NaN   \n",
       "4      n5  TV Show           Kota Factory              NaN   \n",
       "\n",
       "                                                cast        country  \\\n",
       "0                                                NaN  United States   \n",
       "1  Ama Qamata, Khosi Ngema, Gail Mabalane, Thaban...   South Africa   \n",
       "2  Sami Bouajila, Tracy Gotoas, Samuel Jouy, Nabi...            NaN   \n",
       "3                                                NaN            NaN   \n",
       "4  Mayur More, Jitendra Kumar, Ranjan Raj, Alam K...          India   \n",
       "\n",
       "           date_added  release_year rating   duration  \\\n",
       "0  September 25, 2021          2020  PG-13     90 min   \n",
       "1  September 24, 2021          2021  TV-MA  2 Seasons   \n",
       "2  September 24, 2021          2021  TV-MA   1 Season   \n",
       "3  September 24, 2021          2021  TV-MA   1 Season   \n",
       "4  September 24, 2021          2021  TV-MA  2 Seasons   \n",
       "\n",
       "                                           listed_in  \\\n",
       "0                                      Documentaries   \n",
       "1    International TV Shows, TV Dramas, TV Mysteries   \n",
       "2  Crime TV Shows, International TV Shows, TV Act...   \n",
       "3                             Docuseries, Reality TV   \n",
       "4  International TV Shows, Romantic TV Shows, TV ...   \n",
       "\n",
       "                                         description  \n",
       "0  As her father nears the end of his life, filmm...  \n",
       "1  After crossing paths at a party, a Cape Town t...  \n",
       "2  To protect his family from a powerful drug lor...  \n",
       "3  Feuds, flirtations and toilet talk go down amo...  \n",
       "4  In a city of coaching centers known to train I...  "
      ]
     },
     "execution_count": 486,
     "metadata": {},
     "output_type": "execute_result"
    }
   ],
   "source": [
    "amazon['show_id'] = amazon['show_id'].str.replace('s','a')\n",
    "amazon.head()\n",
    "disney['show_id'] = disney['show_id'].str.replace('s','d')\n",
    "disney.head()\n",
    "netflix['show_id'] = netflix['show_id'].str.replace('s','n')\n",
    "netflix.head()"
   ]
  },
  {
   "cell_type": "markdown",
   "id": "22fd5141-ebf5-4d18-ac4a-7911dbdf2446",
   "metadata": {},
   "source": [
    "## Combine data"
   ]
  },
  {
   "cell_type": "code",
   "execution_count": 487,
   "id": "228a6259-31cc-4840-a971-c3fc57c823d8",
   "metadata": {},
   "outputs": [
    {
     "data": {
      "text/html": [
       "<div>\n",
       "<style scoped>\n",
       "    .dataframe tbody tr th:only-of-type {\n",
       "        vertical-align: middle;\n",
       "    }\n",
       "\n",
       "    .dataframe tbody tr th {\n",
       "        vertical-align: top;\n",
       "    }\n",
       "\n",
       "    .dataframe thead th {\n",
       "        text-align: right;\n",
       "    }\n",
       "</style>\n",
       "<table border=\"1\" class=\"dataframe\">\n",
       "  <thead>\n",
       "    <tr style=\"text-align: right;\">\n",
       "      <th></th>\n",
       "      <th>show_id</th>\n",
       "      <th>type</th>\n",
       "      <th>title</th>\n",
       "      <th>director</th>\n",
       "      <th>cast</th>\n",
       "      <th>country</th>\n",
       "      <th>date_added</th>\n",
       "      <th>release_year</th>\n",
       "      <th>rating</th>\n",
       "      <th>duration</th>\n",
       "      <th>listed_in</th>\n",
       "      <th>description</th>\n",
       "    </tr>\n",
       "  </thead>\n",
       "  <tbody>\n",
       "    <tr>\n",
       "      <th>0</th>\n",
       "      <td>n1</td>\n",
       "      <td>Movie</td>\n",
       "      <td>Dick Johnson Is Dead</td>\n",
       "      <td>Kirsten Johnson</td>\n",
       "      <td>NaN</td>\n",
       "      <td>United States</td>\n",
       "      <td>September 25, 2021</td>\n",
       "      <td>2020</td>\n",
       "      <td>PG-13</td>\n",
       "      <td>90 min</td>\n",
       "      <td>Documentaries</td>\n",
       "      <td>As her father nears the end of his life, filmm...</td>\n",
       "    </tr>\n",
       "    <tr>\n",
       "      <th>1</th>\n",
       "      <td>n2</td>\n",
       "      <td>TV Show</td>\n",
       "      <td>Blood &amp; Water</td>\n",
       "      <td>NaN</td>\n",
       "      <td>Ama Qamata, Khosi Ngema, Gail Mabalane, Thaban...</td>\n",
       "      <td>South Africa</td>\n",
       "      <td>September 24, 2021</td>\n",
       "      <td>2021</td>\n",
       "      <td>TV-MA</td>\n",
       "      <td>2 Seasons</td>\n",
       "      <td>International TV Shows, TV Dramas, TV Mysteries</td>\n",
       "      <td>After crossing paths at a party, a Cape Town t...</td>\n",
       "    </tr>\n",
       "    <tr>\n",
       "      <th>2</th>\n",
       "      <td>n3</td>\n",
       "      <td>TV Show</td>\n",
       "      <td>Ganglands</td>\n",
       "      <td>Julien Leclercq</td>\n",
       "      <td>Sami Bouajila, Tracy Gotoas, Samuel Jouy, Nabi...</td>\n",
       "      <td>NaN</td>\n",
       "      <td>September 24, 2021</td>\n",
       "      <td>2021</td>\n",
       "      <td>TV-MA</td>\n",
       "      <td>1 Season</td>\n",
       "      <td>Crime TV Shows, International TV Shows, TV Act...</td>\n",
       "      <td>To protect his family from a powerful drug lor...</td>\n",
       "    </tr>\n",
       "    <tr>\n",
       "      <th>3</th>\n",
       "      <td>n4</td>\n",
       "      <td>TV Show</td>\n",
       "      <td>Jailbirds New Orleans</td>\n",
       "      <td>NaN</td>\n",
       "      <td>NaN</td>\n",
       "      <td>NaN</td>\n",
       "      <td>September 24, 2021</td>\n",
       "      <td>2021</td>\n",
       "      <td>TV-MA</td>\n",
       "      <td>1 Season</td>\n",
       "      <td>Docuseries, Reality TV</td>\n",
       "      <td>Feuds, flirtations and toilet talk go down amo...</td>\n",
       "    </tr>\n",
       "    <tr>\n",
       "      <th>4</th>\n",
       "      <td>n5</td>\n",
       "      <td>TV Show</td>\n",
       "      <td>Kota Factory</td>\n",
       "      <td>NaN</td>\n",
       "      <td>Mayur More, Jitendra Kumar, Ranjan Raj, Alam K...</td>\n",
       "      <td>India</td>\n",
       "      <td>September 24, 2021</td>\n",
       "      <td>2021</td>\n",
       "      <td>TV-MA</td>\n",
       "      <td>2 Seasons</td>\n",
       "      <td>International TV Shows, Romantic TV Shows, TV ...</td>\n",
       "      <td>In a city of coaching centers known to train I...</td>\n",
       "    </tr>\n",
       "  </tbody>\n",
       "</table>\n",
       "</div>"
      ],
      "text/plain": [
       "  show_id     type                  title         director  \\\n",
       "0      n1    Movie   Dick Johnson Is Dead  Kirsten Johnson   \n",
       "1      n2  TV Show          Blood & Water              NaN   \n",
       "2      n3  TV Show              Ganglands  Julien Leclercq   \n",
       "3      n4  TV Show  Jailbirds New Orleans              NaN   \n",
       "4      n5  TV Show           Kota Factory              NaN   \n",
       "\n",
       "                                                cast        country  \\\n",
       "0                                                NaN  United States   \n",
       "1  Ama Qamata, Khosi Ngema, Gail Mabalane, Thaban...   South Africa   \n",
       "2  Sami Bouajila, Tracy Gotoas, Samuel Jouy, Nabi...            NaN   \n",
       "3                                                NaN            NaN   \n",
       "4  Mayur More, Jitendra Kumar, Ranjan Raj, Alam K...          India   \n",
       "\n",
       "           date_added  release_year rating   duration  \\\n",
       "0  September 25, 2021          2020  PG-13     90 min   \n",
       "1  September 24, 2021          2021  TV-MA  2 Seasons   \n",
       "2  September 24, 2021          2021  TV-MA   1 Season   \n",
       "3  September 24, 2021          2021  TV-MA   1 Season   \n",
       "4  September 24, 2021          2021  TV-MA  2 Seasons   \n",
       "\n",
       "                                           listed_in  \\\n",
       "0                                      Documentaries   \n",
       "1    International TV Shows, TV Dramas, TV Mysteries   \n",
       "2  Crime TV Shows, International TV Shows, TV Act...   \n",
       "3                             Docuseries, Reality TV   \n",
       "4  International TV Shows, Romantic TV Shows, TV ...   \n",
       "\n",
       "                                         description  \n",
       "0  As her father nears the end of his life, filmm...  \n",
       "1  After crossing paths at a party, a Cape Town t...  \n",
       "2  To protect his family from a powerful drug lor...  \n",
       "3  Feuds, flirtations and toilet talk go down amo...  \n",
       "4  In a city of coaching centers known to train I...  "
      ]
     },
     "execution_count": 487,
     "metadata": {},
     "output_type": "execute_result"
    }
   ],
   "source": [
    "streaming_data = pd.concat([netflix, amazon, disney])\n",
    "streaming_data.head()"
   ]
  },
  {
   "cell_type": "markdown",
   "id": "9c401a82-98c1-4692-98a4-8d2215befc66",
   "metadata": {},
   "source": [
    "## Check for duplicates"
   ]
  },
  {
   "cell_type": "code",
   "execution_count": 488,
   "id": "7947a5e7-3b63-4167-979d-51c7d50fc170",
   "metadata": {},
   "outputs": [
    {
     "data": {
      "text/plain": [
       "0"
      ]
     },
     "execution_count": 488,
     "metadata": {},
     "output_type": "execute_result"
    }
   ],
   "source": [
    "streaming_data.duplicated().sum()"
   ]
  },
  {
   "cell_type": "markdown",
   "id": "9390ce0f-9a67-40fb-aa43-2c460d1cb1fc",
   "metadata": {},
   "source": [
    "## See null values"
   ]
  },
  {
   "cell_type": "code",
   "execution_count": 489,
   "id": "bfc8bf83-f814-4e4f-a246-0f74f2e2b204",
   "metadata": {},
   "outputs": [
    {
     "data": {
      "text/plain": [
       "show_id             0\n",
       "type                0\n",
       "title               0\n",
       "director         5190\n",
       "cast             2248\n",
       "country         10046\n",
       "date_added       9526\n",
       "release_year        0\n",
       "rating            344\n",
       "duration            3\n",
       "listed_in           0\n",
       "description         0\n",
       "dtype: int64"
      ]
     },
     "execution_count": 489,
     "metadata": {},
     "output_type": "execute_result"
    }
   ],
   "source": [
    "streaming_data.isnull().sum()"
   ]
  },
  {
   "cell_type": "markdown",
   "id": "e57d9a1f-b0fa-49e6-abee-9aeef4b33b35",
   "metadata": {},
   "source": [
    "## Fix duration columns, fill missing data with data from another column, and check for inconsistencies"
   ]
  },
  {
   "cell_type": "code",
   "execution_count": 490,
   "id": "f494e094-c4e9-4518-a471-0ef9dd2dd5ec",
   "metadata": {},
   "outputs": [],
   "source": [
    "streaming_data.loc[streaming_data['duration'].isna(), 'duration'] = streaming_data.loc[streaming_data['duration'].isna(), 'rating']"
   ]
  },
  {
   "cell_type": "code",
   "execution_count": 491,
   "id": "14398f2d-568d-458c-9b60-628afeb89b50",
   "metadata": {},
   "outputs": [
    {
     "data": {
      "text/html": [
       "<div>\n",
       "<style scoped>\n",
       "    .dataframe tbody tr th:only-of-type {\n",
       "        vertical-align: middle;\n",
       "    }\n",
       "\n",
       "    .dataframe tbody tr th {\n",
       "        vertical-align: top;\n",
       "    }\n",
       "\n",
       "    .dataframe thead th {\n",
       "        text-align: right;\n",
       "    }\n",
       "</style>\n",
       "<table border=\"1\" class=\"dataframe\">\n",
       "  <thead>\n",
       "    <tr style=\"text-align: right;\">\n",
       "      <th></th>\n",
       "      <th>show_id</th>\n",
       "      <th>type</th>\n",
       "      <th>title</th>\n",
       "      <th>director</th>\n",
       "      <th>cast</th>\n",
       "      <th>country</th>\n",
       "      <th>date_added</th>\n",
       "      <th>release_year</th>\n",
       "      <th>rating</th>\n",
       "      <th>duration</th>\n",
       "      <th>listed_in</th>\n",
       "      <th>description</th>\n",
       "    </tr>\n",
       "  </thead>\n",
       "  <tbody>\n",
       "  </tbody>\n",
       "</table>\n",
       "</div>"
      ],
      "text/plain": [
       "Empty DataFrame\n",
       "Columns: [show_id, type, title, director, cast, country, date_added, release_year, rating, duration, listed_in, description]\n",
       "Index: []"
      ]
     },
     "execution_count": 491,
     "metadata": {},
     "output_type": "execute_result"
    }
   ],
   "source": [
    "streaming_data[~streaming_data['duration'].str.contains('min|Season')]"
   ]
  },
  {
   "cell_type": "markdown",
   "id": "33174627-5ff0-4e79-b9e3-f9641bc2d950",
   "metadata": {},
   "source": [
    "## Fix rating columns, check for inconsistencies"
   ]
  },
  {
   "cell_type": "code",
   "execution_count": 492,
   "id": "6579c857-d541-498c-8d67-2d2b8e7d202c",
   "metadata": {},
   "outputs": [
    {
     "data": {
      "text/plain": [
       "rating\n",
       "TV-MA       3284\n",
       "TV-14       2447\n",
       "13+         2117\n",
       "R           1809\n",
       "16+         1547\n",
       "TV-PG       1333\n",
       "ALL         1268\n",
       "18+         1243\n",
       "PG-13        949\n",
       "PG           776\n",
       "TV-G         619\n",
       "TV-Y7        504\n",
       "TV-Y         431\n",
       "G            387\n",
       "7+           385\n",
       "Unrated      344\n",
       "NR           303\n",
       "TV-NR        105\n",
       "UNRATED       33\n",
       "TV-Y7-FV      19\n",
       "NC-17          6\n",
       "UR             3\n",
       "AGES_18_       3\n",
       "NOT_RATE       3\n",
       "AGES_16_       2\n",
       "66 min         1\n",
       "84 min         1\n",
       "74 min         1\n",
       "16             1\n",
       "ALL_AGES       1\n",
       "Name: count, dtype: int64"
      ]
     },
     "execution_count": 492,
     "metadata": {},
     "output_type": "execute_result"
    }
   ],
   "source": [
    "streaming_data['rating'] = streaming_data['rating'].fillna('Unrated')\n",
    "streaming_data['rating'].value_counts()"
   ]
  },
  {
   "cell_type": "code",
   "execution_count": 493,
   "id": "da111c20-99ad-49f5-81cd-6bd15b1190c1",
   "metadata": {},
   "outputs": [],
   "source": [
    "streaming_data.loc[(streaming_data['rating'].str.contains('min'), 'rating')] = ['R','R','R']"
   ]
  },
  {
   "cell_type": "code",
   "execution_count": 494,
   "id": "d79096f6-0869-4424-a494-09eb9c7cab25",
   "metadata": {},
   "outputs": [],
   "source": [
    "streaming_data.loc[(streaming_data['rating'].str.contains('TV-MA|R|16+|18+|NR|NC-17|UR|AGES_18_'), 'rating')] = 'R'"
   ]
  },
  {
   "cell_type": "code",
   "execution_count": 495,
   "id": "accb42e4-7c8b-49eb-8ccc-03a73927f780",
   "metadata": {},
   "outputs": [],
   "source": [
    "streaming_data.loc[(streaming_data['rating'].str.contains('TV-14|PG-13|13+'), 'rating')] = 'PG-13'"
   ]
  },
  {
   "cell_type": "code",
   "execution_count": 496,
   "id": "e4202116-aa60-454a-9b08-a8529f045c55",
   "metadata": {},
   "outputs": [],
   "source": [
    "streaming_data.loc[(streaming_data['rating'].str.contains('TV-PG'), 'rating')] = 'PG'"
   ]
  },
  {
   "cell_type": "code",
   "execution_count": 497,
   "id": "6b6e0080-7287-41d7-8503-79401ff6b810",
   "metadata": {},
   "outputs": [],
   "source": [
    "streaming_data.loc[(streaming_data['rating'].str.contains('ALL|TV-G|TV-Y7|TV-Y|7+|TV-Y7-FV|ALL_AGES|Unrated'), 'rating')] = 'G'"
   ]
  },
  {
   "cell_type": "markdown",
   "id": "4d9ff324-5225-4621-ac38-6609859d8fbb",
   "metadata": {},
   "source": [
    "## Now that the ratings column is clean, let's fill in the rest with \"Not Listed\""
   ]
  },
  {
   "cell_type": "code",
   "execution_count": 498,
   "id": "47ce21c8-5bfa-4fc0-bbe7-a7294a25e5be",
   "metadata": {},
   "outputs": [],
   "source": [
    "streaming_data.loc[streaming_data['date_added'].isna(), 'date_added'] = 'Not Listed'"
   ]
  },
  {
   "cell_type": "code",
   "execution_count": 499,
   "id": "fad0bbe4-c402-4fa4-962c-9d59a0b56dbc",
   "metadata": {},
   "outputs": [],
   "source": [
    "streaming_data.loc[streaming_data['country'].isna(), 'country'] = 'Not Listed'"
   ]
  },
  {
   "cell_type": "code",
   "execution_count": 500,
   "id": "0bfd0b9c-6946-4bfa-b1d5-a090e345ef69",
   "metadata": {},
   "outputs": [],
   "source": [
    "streaming_data.loc[streaming_data['cast'].isna(), 'cast'] = 'Not Listed'"
   ]
  },
  {
   "cell_type": "code",
   "execution_count": 501,
   "id": "2cf539c5-d1f6-43c3-b5f6-3e9dcf1ae856",
   "metadata": {},
   "outputs": [],
   "source": [
    "streaming_data.loc[streaming_data['director'].isna(), 'director'] = 'Not Listed'"
   ]
  },
  {
   "cell_type": "markdown",
   "id": "b22a59f8-0fae-42b8-a029-aef4fb5ede4e",
   "metadata": {},
   "source": [
    "## Now let's check if there are any nulls or duplicates left"
   ]
  },
  {
   "cell_type": "code",
   "execution_count": 502,
   "id": "4a06e2a9-602b-4952-9cca-2f2566b3935d",
   "metadata": {},
   "outputs": [
    {
     "data": {
      "text/plain": [
       "show_id         0\n",
       "type            0\n",
       "title           0\n",
       "director        0\n",
       "cast            0\n",
       "country         0\n",
       "date_added      0\n",
       "release_year    0\n",
       "rating          0\n",
       "duration        0\n",
       "listed_in       0\n",
       "description     0\n",
       "dtype: int64"
      ]
     },
     "execution_count": 502,
     "metadata": {},
     "output_type": "execute_result"
    }
   ],
   "source": [
    "streaming_data.isnull().sum()"
   ]
  },
  {
   "cell_type": "code",
   "execution_count": 503,
   "id": "55567b84-4fc2-4873-8f10-598ab4d227b0",
   "metadata": {},
   "outputs": [
    {
     "data": {
      "text/plain": [
       "0"
      ]
     },
     "execution_count": 503,
     "metadata": {},
     "output_type": "execute_result"
    }
   ],
   "source": [
    "streaming_data.duplicated().sum()"
   ]
  },
  {
   "cell_type": "markdown",
   "id": "3cde66d4-2d99-4d55-9c59-108017e864ec",
   "metadata": {},
   "source": [
    "## Convert date_added to datetime"
   ]
  },
  {
   "cell_type": "code",
   "execution_count": 504,
   "id": "26fa1e5a-58d2-4b7c-b49d-1b8c93dfa564",
   "metadata": {
    "scrolled": true
   },
   "outputs": [
    {
     "data": {
      "text/plain": [
       "show_id         object\n",
       "type            object\n",
       "title           object\n",
       "director        object\n",
       "cast            object\n",
       "country         object\n",
       "date_added      object\n",
       "release_year     int64\n",
       "rating          object\n",
       "duration        object\n",
       "listed_in       object\n",
       "description     object\n",
       "dtype: object"
      ]
     },
     "execution_count": 504,
     "metadata": {},
     "output_type": "execute_result"
    }
   ],
   "source": [
    "streaming_data.dtypes"
   ]
  },
  {
   "cell_type": "code",
   "execution_count": 505,
   "id": "bc5eca70-84db-45e5-a800-6dfc4825dfff",
   "metadata": {},
   "outputs": [
    {
     "name": "stderr",
     "output_type": "stream",
     "text": [
      "/tmp/ipykernel_53667/210166792.py:1: UserWarning: The argument 'infer_datetime_format' is deprecated and will be removed in a future version. A strict version of it is now the default, see https://pandas.pydata.org/pdeps/0004-consistent-to-datetime-parsing.html. You can safely remove this argument.\n",
      "  streaming_data['date_added'] = pd.to_datetime(streaming_data['date_added'], errors='coerce', infer_datetime_format=True)\n"
     ]
    }
   ],
   "source": [
    "streaming_data['date_added'] = pd.to_datetime(streaming_data['date_added'], errors='coerce', infer_datetime_format=True)"
   ]
  },
  {
   "cell_type": "markdown",
   "id": "51bc0955-18d0-43ff-b789-15150a27a6ce",
   "metadata": {},
   "source": [
    "## We'll have some missing dates but that's fine, we'll remove when necessary"
   ]
  },
  {
   "cell_type": "markdown",
   "id": "d9ff54f9-d101-48d3-87c4-6ca947ed6aa1",
   "metadata": {},
   "source": [
    "# Perfect! Now we can start diving into the data"
   ]
  },
  {
   "cell_type": "code",
   "execution_count": 506,
   "id": "9f843b18-e4b1-42f4-a4db-bbd99895387c",
   "metadata": {},
   "outputs": [
    {
     "data": {
      "text/html": [
       "<div>\n",
       "<style scoped>\n",
       "    .dataframe tbody tr th:only-of-type {\n",
       "        vertical-align: middle;\n",
       "    }\n",
       "\n",
       "    .dataframe tbody tr th {\n",
       "        vertical-align: top;\n",
       "    }\n",
       "\n",
       "    .dataframe thead th {\n",
       "        text-align: right;\n",
       "    }\n",
       "</style>\n",
       "<table border=\"1\" class=\"dataframe\">\n",
       "  <thead>\n",
       "    <tr style=\"text-align: right;\">\n",
       "      <th></th>\n",
       "      <th>show_id</th>\n",
       "      <th>type</th>\n",
       "      <th>title</th>\n",
       "      <th>director</th>\n",
       "      <th>cast</th>\n",
       "      <th>country</th>\n",
       "      <th>date_added</th>\n",
       "      <th>release_year</th>\n",
       "      <th>rating</th>\n",
       "      <th>duration</th>\n",
       "      <th>listed_in</th>\n",
       "      <th>description</th>\n",
       "    </tr>\n",
       "  </thead>\n",
       "  <tbody>\n",
       "    <tr>\n",
       "      <th>0</th>\n",
       "      <td>n1</td>\n",
       "      <td>Movie</td>\n",
       "      <td>Dick Johnson Is Dead</td>\n",
       "      <td>Kirsten Johnson</td>\n",
       "      <td>Not Listed</td>\n",
       "      <td>United States</td>\n",
       "      <td>2021-09-25</td>\n",
       "      <td>2020</td>\n",
       "      <td>PG-13</td>\n",
       "      <td>90 min</td>\n",
       "      <td>Documentaries</td>\n",
       "      <td>As her father nears the end of his life, filmm...</td>\n",
       "    </tr>\n",
       "    <tr>\n",
       "      <th>1</th>\n",
       "      <td>n2</td>\n",
       "      <td>TV Show</td>\n",
       "      <td>Blood &amp; Water</td>\n",
       "      <td>Not Listed</td>\n",
       "      <td>Ama Qamata, Khosi Ngema, Gail Mabalane, Thaban...</td>\n",
       "      <td>South Africa</td>\n",
       "      <td>2021-09-24</td>\n",
       "      <td>2021</td>\n",
       "      <td>R</td>\n",
       "      <td>2 Seasons</td>\n",
       "      <td>International TV Shows, TV Dramas, TV Mysteries</td>\n",
       "      <td>After crossing paths at a party, a Cape Town t...</td>\n",
       "    </tr>\n",
       "    <tr>\n",
       "      <th>2</th>\n",
       "      <td>n3</td>\n",
       "      <td>TV Show</td>\n",
       "      <td>Ganglands</td>\n",
       "      <td>Julien Leclercq</td>\n",
       "      <td>Sami Bouajila, Tracy Gotoas, Samuel Jouy, Nabi...</td>\n",
       "      <td>Not Listed</td>\n",
       "      <td>2021-09-24</td>\n",
       "      <td>2021</td>\n",
       "      <td>R</td>\n",
       "      <td>1 Season</td>\n",
       "      <td>Crime TV Shows, International TV Shows, TV Act...</td>\n",
       "      <td>To protect his family from a powerful drug lor...</td>\n",
       "    </tr>\n",
       "    <tr>\n",
       "      <th>3</th>\n",
       "      <td>n4</td>\n",
       "      <td>TV Show</td>\n",
       "      <td>Jailbirds New Orleans</td>\n",
       "      <td>Not Listed</td>\n",
       "      <td>Not Listed</td>\n",
       "      <td>Not Listed</td>\n",
       "      <td>2021-09-24</td>\n",
       "      <td>2021</td>\n",
       "      <td>R</td>\n",
       "      <td>1 Season</td>\n",
       "      <td>Docuseries, Reality TV</td>\n",
       "      <td>Feuds, flirtations and toilet talk go down amo...</td>\n",
       "    </tr>\n",
       "    <tr>\n",
       "      <th>4</th>\n",
       "      <td>n5</td>\n",
       "      <td>TV Show</td>\n",
       "      <td>Kota Factory</td>\n",
       "      <td>Not Listed</td>\n",
       "      <td>Mayur More, Jitendra Kumar, Ranjan Raj, Alam K...</td>\n",
       "      <td>India</td>\n",
       "      <td>2021-09-24</td>\n",
       "      <td>2021</td>\n",
       "      <td>R</td>\n",
       "      <td>2 Seasons</td>\n",
       "      <td>International TV Shows, Romantic TV Shows, TV ...</td>\n",
       "      <td>In a city of coaching centers known to train I...</td>\n",
       "    </tr>\n",
       "    <tr>\n",
       "      <th>...</th>\n",
       "      <td>...</td>\n",
       "      <td>...</td>\n",
       "      <td>...</td>\n",
       "      <td>...</td>\n",
       "      <td>...</td>\n",
       "      <td>...</td>\n",
       "      <td>...</td>\n",
       "      <td>...</td>\n",
       "      <td>...</td>\n",
       "      <td>...</td>\n",
       "      <td>...</td>\n",
       "      <td>...</td>\n",
       "    </tr>\n",
       "    <tr>\n",
       "      <th>1445</th>\n",
       "      <td>d1446</td>\n",
       "      <td>Movie</td>\n",
       "      <td>X-Men Origins: Wolverine</td>\n",
       "      <td>Gavin Hood</td>\n",
       "      <td>Hugh Jackman, Liev Schreiber, Danny Huston, wi...</td>\n",
       "      <td>United States, United Kingdom</td>\n",
       "      <td>2021-06-04</td>\n",
       "      <td>2009</td>\n",
       "      <td>PG-13</td>\n",
       "      <td>108 min</td>\n",
       "      <td>Action-Adventure, Family, Science Fiction</td>\n",
       "      <td>Wolverine unites with legendary X-Men to fight...</td>\n",
       "    </tr>\n",
       "    <tr>\n",
       "      <th>1446</th>\n",
       "      <td>d1447</td>\n",
       "      <td>Movie</td>\n",
       "      <td>Night at the Museum: Battle of the Smithsonian</td>\n",
       "      <td>Shawn Levy</td>\n",
       "      <td>Ben Stiller, Amy Adams, Owen Wilson, Hank Azar...</td>\n",
       "      <td>United States, Canada</td>\n",
       "      <td>2021-04-02</td>\n",
       "      <td>2009</td>\n",
       "      <td>PG</td>\n",
       "      <td>106 min</td>\n",
       "      <td>Action-Adventure, Comedy, Family</td>\n",
       "      <td>Larry Daley returns to rescue some old friends...</td>\n",
       "    </tr>\n",
       "    <tr>\n",
       "      <th>1447</th>\n",
       "      <td>d1448</td>\n",
       "      <td>Movie</td>\n",
       "      <td>Eddie the Eagle</td>\n",
       "      <td>Dexter Fletcher</td>\n",
       "      <td>Tom Costello, Jo Hartley, Keith Allen, Dickon ...</td>\n",
       "      <td>United Kingdom, Germany, United States</td>\n",
       "      <td>2020-12-18</td>\n",
       "      <td>2016</td>\n",
       "      <td>PG-13</td>\n",
       "      <td>107 min</td>\n",
       "      <td>Biographical, Comedy, Drama</td>\n",
       "      <td>True story of Eddie Edwards, a British ski-jum...</td>\n",
       "    </tr>\n",
       "    <tr>\n",
       "      <th>1448</th>\n",
       "      <td>d1449</td>\n",
       "      <td>Movie</td>\n",
       "      <td>Bend It Like Beckham</td>\n",
       "      <td>Gurinder Chadha</td>\n",
       "      <td>Parminder Nagra, Keira Knightley, Jonathan Rhy...</td>\n",
       "      <td>United Kingdom, Germany, United States</td>\n",
       "      <td>2020-09-18</td>\n",
       "      <td>2003</td>\n",
       "      <td>PG-13</td>\n",
       "      <td>112 min</td>\n",
       "      <td>Buddy, Comedy, Coming of Age</td>\n",
       "      <td>Despite the wishes of their traditional famili...</td>\n",
       "    </tr>\n",
       "    <tr>\n",
       "      <th>1449</th>\n",
       "      <td>d1450</td>\n",
       "      <td>Movie</td>\n",
       "      <td>Captain Sparky vs. The Flying Saucers</td>\n",
       "      <td>Mark Waring</td>\n",
       "      <td>Charlie Tahan</td>\n",
       "      <td>United States</td>\n",
       "      <td>2020-04-01</td>\n",
       "      <td>2012</td>\n",
       "      <td>G</td>\n",
       "      <td>2 min</td>\n",
       "      <td>Action-Adventure, Animals &amp; Nature, Animation</td>\n",
       "      <td>View one of Sparky's favorite home movies.</td>\n",
       "    </tr>\n",
       "  </tbody>\n",
       "</table>\n",
       "<p>19925 rows × 12 columns</p>\n",
       "</div>"
      ],
      "text/plain": [
       "     show_id     type                                           title  \\\n",
       "0         n1    Movie                            Dick Johnson Is Dead   \n",
       "1         n2  TV Show                                   Blood & Water   \n",
       "2         n3  TV Show                                       Ganglands   \n",
       "3         n4  TV Show                           Jailbirds New Orleans   \n",
       "4         n5  TV Show                                    Kota Factory   \n",
       "...      ...      ...                                             ...   \n",
       "1445   d1446    Movie                        X-Men Origins: Wolverine   \n",
       "1446   d1447    Movie  Night at the Museum: Battle of the Smithsonian   \n",
       "1447   d1448    Movie                                 Eddie the Eagle   \n",
       "1448   d1449    Movie                            Bend It Like Beckham   \n",
       "1449   d1450    Movie           Captain Sparky vs. The Flying Saucers   \n",
       "\n",
       "             director                                               cast  \\\n",
       "0     Kirsten Johnson                                         Not Listed   \n",
       "1          Not Listed  Ama Qamata, Khosi Ngema, Gail Mabalane, Thaban...   \n",
       "2     Julien Leclercq  Sami Bouajila, Tracy Gotoas, Samuel Jouy, Nabi...   \n",
       "3          Not Listed                                         Not Listed   \n",
       "4          Not Listed  Mayur More, Jitendra Kumar, Ranjan Raj, Alam K...   \n",
       "...               ...                                                ...   \n",
       "1445       Gavin Hood  Hugh Jackman, Liev Schreiber, Danny Huston, wi...   \n",
       "1446       Shawn Levy  Ben Stiller, Amy Adams, Owen Wilson, Hank Azar...   \n",
       "1447  Dexter Fletcher  Tom Costello, Jo Hartley, Keith Allen, Dickon ...   \n",
       "1448  Gurinder Chadha  Parminder Nagra, Keira Knightley, Jonathan Rhy...   \n",
       "1449      Mark Waring                                      Charlie Tahan   \n",
       "\n",
       "                                     country date_added  release_year rating  \\\n",
       "0                              United States 2021-09-25          2020  PG-13   \n",
       "1                               South Africa 2021-09-24          2021      R   \n",
       "2                                 Not Listed 2021-09-24          2021      R   \n",
       "3                                 Not Listed 2021-09-24          2021      R   \n",
       "4                                      India 2021-09-24          2021      R   \n",
       "...                                      ...        ...           ...    ...   \n",
       "1445           United States, United Kingdom 2021-06-04          2009  PG-13   \n",
       "1446                   United States, Canada 2021-04-02          2009     PG   \n",
       "1447  United Kingdom, Germany, United States 2020-12-18          2016  PG-13   \n",
       "1448  United Kingdom, Germany, United States 2020-09-18          2003  PG-13   \n",
       "1449                           United States 2020-04-01          2012      G   \n",
       "\n",
       "       duration                                          listed_in  \\\n",
       "0        90 min                                      Documentaries   \n",
       "1     2 Seasons    International TV Shows, TV Dramas, TV Mysteries   \n",
       "2      1 Season  Crime TV Shows, International TV Shows, TV Act...   \n",
       "3      1 Season                             Docuseries, Reality TV   \n",
       "4     2 Seasons  International TV Shows, Romantic TV Shows, TV ...   \n",
       "...         ...                                                ...   \n",
       "1445    108 min          Action-Adventure, Family, Science Fiction   \n",
       "1446    106 min                   Action-Adventure, Comedy, Family   \n",
       "1447    107 min                        Biographical, Comedy, Drama   \n",
       "1448    112 min                       Buddy, Comedy, Coming of Age   \n",
       "1449      2 min      Action-Adventure, Animals & Nature, Animation   \n",
       "\n",
       "                                            description  \n",
       "0     As her father nears the end of his life, filmm...  \n",
       "1     After crossing paths at a party, a Cape Town t...  \n",
       "2     To protect his family from a powerful drug lor...  \n",
       "3     Feuds, flirtations and toilet talk go down amo...  \n",
       "4     In a city of coaching centers known to train I...  \n",
       "...                                                 ...  \n",
       "1445  Wolverine unites with legendary X-Men to fight...  \n",
       "1446  Larry Daley returns to rescue some old friends...  \n",
       "1447  True story of Eddie Edwards, a British ski-jum...  \n",
       "1448  Despite the wishes of their traditional famili...  \n",
       "1449         View one of Sparky's favorite home movies.  \n",
       "\n",
       "[19925 rows x 12 columns]"
      ]
     },
     "execution_count": 506,
     "metadata": {},
     "output_type": "execute_result"
    }
   ],
   "source": [
    "streaming_data"
   ]
  },
  {
   "cell_type": "markdown",
   "id": "d9b03298-798e-4311-b1e3-b50faeb73298",
   "metadata": {},
   "source": [
    "## Let's see what are the most popular genres on all 3 platforms, lets start be creating a platform column"
   ]
  },
  {
   "cell_type": "code",
   "execution_count": 507,
   "id": "7081b166-d62f-4250-9523-aade6e21c80a",
   "metadata": {},
   "outputs": [],
   "source": [
    "streaming_data['platform'] = np.where(streaming_data['show_id'].str.contains('n'), 'Netflix',\n",
    "                                     np.where(streaming_data['show_id'].str.contains('a'), 'Amazon',\n",
    "                                     np.where(streaming_data['show_id'].str.contains('d'), 'Disney+', 'Other')))"
   ]
  },
  {
   "cell_type": "code",
   "execution_count": 508,
   "id": "640bdc91-5a1e-4012-8e33-263ac79dec99",
   "metadata": {},
   "outputs": [
    {
     "name": "stdout",
     "output_type": "stream",
     "text": [
      "  platform  count\n",
      "0   Amazon   9668\n",
      "1  Netflix   8807\n",
      "2  Disney+   1450\n"
     ]
    }
   ],
   "source": [
    "totals = streaming_data['platform'].value_counts().reset_index()\n",
    "print(totals)"
   ]
  },
  {
   "cell_type": "code",
   "execution_count": 509,
   "id": "676f1ffd-c182-43fa-8491-3d12d853e70d",
   "metadata": {},
   "outputs": [
    {
     "data": {
      "image/png": "[encoded data removed]",
      "text/plain": [
       "<Figure size 800x800 with 1 Axes>"
      ]
     },
     "metadata": {},
     "output_type": "display_data"
    }
   ],
   "source": [
    "plt.figure(figsize=(8, 8))\n",
    "plt.pie(totals['count'], labels = totals['platform'], autopct='%1.1f%%', startangle=90)\n",
    "plt.title('Distribution of Streaming Platforms')\n",
    "plt.axis('equal')\n",
    "plt.show()"
   ]
  },
  {
   "cell_type": "code",
   "execution_count": 510,
   "id": "5cc47c23-29ae-4f3e-a66a-ca604a387af0",
   "metadata": {},
   "outputs": [
    {
     "data": {
      "text/plain": [
       "platform  listed_in                          \n",
       "Amazon    Drama                                  986\n",
       "          Comedy                                 536\n",
       "          Drama, Suspense                        399\n",
       "Disney+   Animation, Comedy, Family              124\n",
       "          Action-Adventure, Animation, Comedy     77\n",
       "          Action-Adventure, Animation, Kids       45\n",
       "Netflix   Dramas, International Movies           362\n",
       "          Documentaries                          359\n",
       "          Stand-Up Comedy                        334\n",
       "Name: count, dtype: int64"
      ]
     },
     "execution_count": 510,
     "metadata": {},
     "output_type": "execute_result"
    }
   ],
   "source": [
    "streaming_data.groupby('platform')[['listed_in']].apply(lambda x: x.value_counts().nlargest(3))"
   ]
  },
  {
   "cell_type": "code",
   "execution_count": 511,
   "id": "cc65b93d-717a-45b6-a3a6-5b286df82722",
   "metadata": {},
   "outputs": [
    {
     "name": "stdout",
     "output_type": "stream",
     "text": [
      "platform  listed_in    \n",
      "Amazon    Drama            3687\n",
      "          Comedy           2099\n",
      "          Action           1657\n",
      "Disney+   Family            632\n",
      "          Animation         542\n",
      "          Comedy            526\n",
      "Netflix   Dramas           2427\n",
      "          Comedies         1674\n",
      "          Documentaries     869\n",
      "Name: count, dtype: int64\n"
     ]
    }
   ],
   "source": [
    "def top_n_single_word_genres(streaming_data):\n",
    "\n",
    "    single_word_genres = streaming_data['listed_in'].str.split(', ').explode()\n",
    "    \n",
    "\n",
    "    single_word_genres = single_word_genres[single_word_genres.str.split().str.len() == 1]\n",
    "    \n",
    "    \n",
    "    return single_word_genres.value_counts().nlargest(3)\n",
    "\n",
    "# Group by 'platform' and apply the top_n_single_word_genres function to each group\n",
    "top_genres_by_platform = streaming_data.groupby('platform').apply(top_n_single_word_genres)\n",
    "\n",
    "print(top_genres_by_platform)"
   ]
  },
  {
   "cell_type": "code",
   "execution_count": 512,
   "id": "b7991568-3d69-48db-a5cd-e9c2602e0cee",
   "metadata": {},
   "outputs": [
    {
     "name": "stdout",
     "output_type": "stream",
     "text": [
      "  platform      listed_in  count\n",
      "0   Amazon          Drama   3687\n",
      "1   Amazon         Comedy   2099\n",
      "2   Amazon         Action   1657\n",
      "3  Disney+         Family    632\n",
      "4  Disney+      Animation    542\n",
      "5  Disney+         Comedy    526\n",
      "6  Netflix         Dramas   2427\n",
      "7  Netflix       Comedies   1674\n",
      "8  Netflix  Documentaries    869\n"
     ]
    }
   ],
   "source": [
    "top_genres_by_platform = top_genres_by_platform.reset_index()\n",
    "print(top_genres_by_platform)"
   ]
  },
  {
   "cell_type": "code",
   "execution_count": 513,
   "id": "c2d94a13-7e45-4d40-9e65-9868408f0934",
   "metadata": {},
   "outputs": [
    {
     "name": "stdout",
     "output_type": "stream",
     "text": [
      "  platform    listed_in  count\n",
      "0   Amazon        Drama   3687\n",
      "1   Amazon       Comedy   2099\n",
      "2   Amazon       Action   1657\n",
      "3  Disney+       Family    632\n",
      "4  Disney+    Animation    542\n",
      "5  Disney+       Comedy    526\n",
      "6  Netflix        Drama   2427\n",
      "7  Netflix       Comedy   1674\n",
      "8  Netflix  Documentary    869\n"
     ]
    }
   ],
   "source": [
    "top_genres_by_platform.loc[top_genres_by_platform['listed_in']=='Dramas', 'listed_in'] = 'Drama'\n",
    "top_genres_by_platform.loc[top_genres_by_platform['listed_in']=='Comedies', 'listed_in'] = 'Comedy'\n",
    "top_genres_by_platform.loc[top_genres_by_platform['listed_in']=='Documentaries', 'listed_in'] = 'Documentary'\n",
    "print(top_genres_by_platform)"
   ]
  },
  {
   "cell_type": "code",
   "execution_count": 514,
   "id": "403e4509-108f-481b-b23a-48a9ef483b00",
   "metadata": {},
   "outputs": [],
   "source": [
    "top_genres_by_platform_sorted = top_genres_by_platform.sort_values(by='count', ascending=False)"
   ]
  },
  {
   "cell_type": "code",
   "execution_count": 515,
   "id": "d2f0def0-7acd-4a80-b6a5-585762612b1a",
   "metadata": {},
   "outputs": [
    {
     "data": {
      "image/png": "[encoded data removed]",
      "text/plain": [
       "<Figure size 1000x600 with 1 Axes>"
      ]
     },
     "metadata": {},
     "output_type": "display_data"
    }
   ],
   "source": [
    "plt.figure(figsize=(10, 6))\n",
    "sns.barplot(x='platform', y='count', hue='listed_in', data = top_genres_by_platform_sorted, width=0.5, dodge = False)\n",
    "plt.xlabel('Platform')\n",
    "plt.ylabel('Count')\n",
    "plt.title('Top Genres by Platform')\n",
    "plt.xticks(rotation=45)\n",
    "plt.legend(title='Genre', fontsize='small')\n",
    "plt.show()"
   ]
  },
  {
   "cell_type": "markdown",
   "id": "e3baad3c-8b5a-48bc-a92d-4c0adbf6a1e8",
   "metadata": {},
   "source": [
    "### <center>The most popular genres among both Amazon Prime and Netflix are Dramas and Comedies. Meanwhile, Disney is more focused on Animation and Family content. This shows that both services are catered to adults while Disney is catered to kids. Documentaries are also big on Netflix. Action films are also more prevalent on Amazon Prime."
   ]
  },
  {
   "cell_type": "markdown",
   "id": "f8ca5c1b-8e6d-42cb-84e3-b810be70cab7",
   "metadata": {},
   "source": [
    "## Now let's see streaming popularity over time"
   ]
  },
  {
   "cell_type": "code",
   "execution_count": 516,
   "id": "63de94b0-bc1c-4906-b96f-eacf45ffc3a0",
   "metadata": {},
   "outputs": [
    {
     "name": "stderr",
     "output_type": "stream",
     "text": [
      "/opt/anaconda3/lib/python3.11/site-packages/seaborn/_oldcore.py:1119: FutureWarning: use_inf_as_na option is deprecated and will be removed in a future version. Convert inf values to NaN before operating instead.\n",
      "  with pd.option_context('mode.use_inf_as_na', True):\n",
      "/opt/anaconda3/lib/python3.11/site-packages/seaborn/_oldcore.py:1119: FutureWarning: use_inf_as_na option is deprecated and will be removed in a future version. Convert inf values to NaN before operating instead.\n",
      "  with pd.option_context('mode.use_inf_as_na', True):\n"
     ]
    },
    {
     "data": {
      "image/png": "[encoded data removed]",
      "text/plain": [
       "<Figure size 1000x600 with 1 Axes>"
      ]
     },
     "metadata": {},
     "output_type": "display_data"
    }
   ],
   "source": [
    "no_null_dates = streaming_data[~streaming_data['date_added'].isnull()]\n",
    "year_releases = no_null_dates.groupby(no_null_dates['date_added'].dt.year).size().reset_index(name='count')\n",
    "\n",
    "plt.figure(figsize=(10, 6))\n",
    "sns.lineplot(x='date_added', y='count', data=year_releases)\n",
    "plt.title('Releases by Year')\n",
    "plt.xticks(year_releases['date_added'], rotation=45)\n",
    "plt.grid(alpha=0.2)\n",
    "plt.show()"
   ]
  },
  {
   "cell_type": "markdown",
   "id": "ff45e925-6706-429b-9d5f-dd2cea72ab64",
   "metadata": {},
   "source": [
    "### <center> The year 2019 had the most amount of releases added to the overall catalog. This may be due to the fact that Disney+ released around this time. Otherwise, this visual shows that over time, streaming has become more popular."
   ]
  },
  {
   "cell_type": "code",
   "execution_count": 517,
   "id": "75255e1a-8c9b-4a9c-9ead-36f5fb23c2ba",
   "metadata": {},
   "outputs": [
    {
     "data": {
      "image/png": "[encoded data removed]",
      "text/plain": [
       "<Figure size 1000x600 with 1 Axes>"
      ]
     },
     "metadata": {},
     "output_type": "display_data"
    }
   ],
   "source": [
    "no_null_dates = streaming_data[~streaming_data['date_added'].isnull()]\n",
    "month_releases = no_null_dates.groupby(no_null_dates['date_added'].dt.month).size().reset_index(name='count')\n",
    "\n",
    "plt.figure(figsize=(10, 6))\n",
    "sns.barplot(x='date_added', y='count', data=month_releases, color='cornflowerblue')\n",
    "plt.title('Releases by Year')\n",
    "plt.xlabel('month')\n",
    "plt.show()"
   ]
  },
  {
   "cell_type": "markdown",
   "id": "b932eb51-3d04-457f-bcc6-b6b2be36120a",
   "metadata": {},
   "source": [
    "### <center> On average, there are 860 titles added in each month. However, November's title count is over 86% higher, at around 1500 titles. Potentially meaning that Late Fall and Early Winter have higher traffic."
   ]
  },
  {
   "cell_type": "markdown",
   "id": "0975cd1d-1956-4cdc-a8c1-87193a401a7a",
   "metadata": {},
   "source": [
    "## Let's compare the average duration of movies and TV shows across platforms"
   ]
  },
  {
   "cell_type": "code",
   "execution_count": 518,
   "id": "3bf42034-53d0-43f5-b20a-997672a3e733",
   "metadata": {},
   "outputs": [
    {
     "data": {
      "text/html": [
       "<div>\n",
       "<style scoped>\n",
       "    .dataframe tbody tr th:only-of-type {\n",
       "        vertical-align: middle;\n",
       "    }\n",
       "\n",
       "    .dataframe tbody tr th {\n",
       "        vertical-align: top;\n",
       "    }\n",
       "\n",
       "    .dataframe thead th {\n",
       "        text-align: right;\n",
       "    }\n",
       "</style>\n",
       "<table border=\"1\" class=\"dataframe\">\n",
       "  <thead>\n",
       "    <tr style=\"text-align: right;\">\n",
       "      <th></th>\n",
       "      <th>show_id</th>\n",
       "      <th>type</th>\n",
       "      <th>title</th>\n",
       "      <th>director</th>\n",
       "      <th>cast</th>\n",
       "      <th>country</th>\n",
       "      <th>date_added</th>\n",
       "      <th>release_year</th>\n",
       "      <th>rating</th>\n",
       "      <th>duration</th>\n",
       "      <th>listed_in</th>\n",
       "      <th>description</th>\n",
       "      <th>platform</th>\n",
       "    </tr>\n",
       "  </thead>\n",
       "  <tbody>\n",
       "    <tr>\n",
       "      <th>0</th>\n",
       "      <td>n1</td>\n",
       "      <td>Movie</td>\n",
       "      <td>Dick Johnson Is Dead</td>\n",
       "      <td>Kirsten Johnson</td>\n",
       "      <td>Not Listed</td>\n",
       "      <td>United States</td>\n",
       "      <td>2021-09-25</td>\n",
       "      <td>2020</td>\n",
       "      <td>PG-13</td>\n",
       "      <td>90 min</td>\n",
       "      <td>Documentaries</td>\n",
       "      <td>As her father nears the end of his life, filmm...</td>\n",
       "      <td>Netflix</td>\n",
       "    </tr>\n",
       "    <tr>\n",
       "      <th>1</th>\n",
       "      <td>n2</td>\n",
       "      <td>TV Show</td>\n",
       "      <td>Blood &amp; Water</td>\n",
       "      <td>Not Listed</td>\n",
       "      <td>Ama Qamata, Khosi Ngema, Gail Mabalane, Thaban...</td>\n",
       "      <td>South Africa</td>\n",
       "      <td>2021-09-24</td>\n",
       "      <td>2021</td>\n",
       "      <td>R</td>\n",
       "      <td>2 Seasons</td>\n",
       "      <td>International TV Shows, TV Dramas, TV Mysteries</td>\n",
       "      <td>After crossing paths at a party, a Cape Town t...</td>\n",
       "      <td>Netflix</td>\n",
       "    </tr>\n",
       "    <tr>\n",
       "      <th>2</th>\n",
       "      <td>n3</td>\n",
       "      <td>TV Show</td>\n",
       "      <td>Ganglands</td>\n",
       "      <td>Julien Leclercq</td>\n",
       "      <td>Sami Bouajila, Tracy Gotoas, Samuel Jouy, Nabi...</td>\n",
       "      <td>Not Listed</td>\n",
       "      <td>2021-09-24</td>\n",
       "      <td>2021</td>\n",
       "      <td>R</td>\n",
       "      <td>1 Season</td>\n",
       "      <td>Crime TV Shows, International TV Shows, TV Act...</td>\n",
       "      <td>To protect his family from a powerful drug lor...</td>\n",
       "      <td>Netflix</td>\n",
       "    </tr>\n",
       "    <tr>\n",
       "      <th>3</th>\n",
       "      <td>n4</td>\n",
       "      <td>TV Show</td>\n",
       "      <td>Jailbirds New Orleans</td>\n",
       "      <td>Not Listed</td>\n",
       "      <td>Not Listed</td>\n",
       "      <td>Not Listed</td>\n",
       "      <td>2021-09-24</td>\n",
       "      <td>2021</td>\n",
       "      <td>R</td>\n",
       "      <td>1 Season</td>\n",
       "      <td>Docuseries, Reality TV</td>\n",
       "      <td>Feuds, flirtations and toilet talk go down amo...</td>\n",
       "      <td>Netflix</td>\n",
       "    </tr>\n",
       "    <tr>\n",
       "      <th>4</th>\n",
       "      <td>n5</td>\n",
       "      <td>TV Show</td>\n",
       "      <td>Kota Factory</td>\n",
       "      <td>Not Listed</td>\n",
       "      <td>Mayur More, Jitendra Kumar, Ranjan Raj, Alam K...</td>\n",
       "      <td>India</td>\n",
       "      <td>2021-09-24</td>\n",
       "      <td>2021</td>\n",
       "      <td>R</td>\n",
       "      <td>2 Seasons</td>\n",
       "      <td>International TV Shows, Romantic TV Shows, TV ...</td>\n",
       "      <td>In a city of coaching centers known to train I...</td>\n",
       "      <td>Netflix</td>\n",
       "    </tr>\n",
       "  </tbody>\n",
       "</table>\n",
       "</div>"
      ],
      "text/plain": [
       "  show_id     type                  title         director  \\\n",
       "0      n1    Movie   Dick Johnson Is Dead  Kirsten Johnson   \n",
       "1      n2  TV Show          Blood & Water       Not Listed   \n",
       "2      n3  TV Show              Ganglands  Julien Leclercq   \n",
       "3      n4  TV Show  Jailbirds New Orleans       Not Listed   \n",
       "4      n5  TV Show           Kota Factory       Not Listed   \n",
       "\n",
       "                                                cast        country  \\\n",
       "0                                         Not Listed  United States   \n",
       "1  Ama Qamata, Khosi Ngema, Gail Mabalane, Thaban...   South Africa   \n",
       "2  Sami Bouajila, Tracy Gotoas, Samuel Jouy, Nabi...     Not Listed   \n",
       "3                                         Not Listed     Not Listed   \n",
       "4  Mayur More, Jitendra Kumar, Ranjan Raj, Alam K...          India   \n",
       "\n",
       "  date_added  release_year rating   duration  \\\n",
       "0 2021-09-25          2020  PG-13     90 min   \n",
       "1 2021-09-24          2021      R  2 Seasons   \n",
       "2 2021-09-24          2021      R   1 Season   \n",
       "3 2021-09-24          2021      R   1 Season   \n",
       "4 2021-09-24          2021      R  2 Seasons   \n",
       "\n",
       "                                           listed_in  \\\n",
       "0                                      Documentaries   \n",
       "1    International TV Shows, TV Dramas, TV Mysteries   \n",
       "2  Crime TV Shows, International TV Shows, TV Act...   \n",
       "3                             Docuseries, Reality TV   \n",
       "4  International TV Shows, Romantic TV Shows, TV ...   \n",
       "\n",
       "                                         description platform  \n",
       "0  As her father nears the end of his life, filmm...  Netflix  \n",
       "1  After crossing paths at a party, a Cape Town t...  Netflix  \n",
       "2  To protect his family from a powerful drug lor...  Netflix  \n",
       "3  Feuds, flirtations and toilet talk go down amo...  Netflix  \n",
       "4  In a city of coaching centers known to train I...  Netflix  "
      ]
     },
     "execution_count": 518,
     "metadata": {},
     "output_type": "execute_result"
    }
   ],
   "source": [
    "streaming_data.head()"
   ]
  },
  {
   "cell_type": "code",
   "execution_count": 543,
   "id": "7063a93a-485c-4589-8369-61c49c36bd9f",
   "metadata": {},
   "outputs": [
    {
     "data": {
      "text/html": [
       "<div>\n",
       "<style scoped>\n",
       "    .dataframe tbody tr th:only-of-type {\n",
       "        vertical-align: middle;\n",
       "    }\n",
       "\n",
       "    .dataframe tbody tr th {\n",
       "        vertical-align: top;\n",
       "    }\n",
       "\n",
       "    .dataframe thead tr th {\n",
       "        text-align: left;\n",
       "    }\n",
       "</style>\n",
       "<table border=\"1\" class=\"dataframe\">\n",
       "  <thead>\n",
       "    <tr>\n",
       "      <th></th>\n",
       "      <th>platform</th>\n",
       "      <th colspan=\"2\" halign=\"left\">duration_mins</th>\n",
       "    </tr>\n",
       "    <tr>\n",
       "      <th></th>\n",
       "      <th></th>\n",
       "      <th>mean</th>\n",
       "      <th>count</th>\n",
       "    </tr>\n",
       "  </thead>\n",
       "  <tbody>\n",
       "    <tr>\n",
       "      <th>0</th>\n",
       "      <td>Amazon</td>\n",
       "      <td>93.73</td>\n",
       "      <td>7385</td>\n",
       "    </tr>\n",
       "    <tr>\n",
       "      <th>1</th>\n",
       "      <td>Disney+</td>\n",
       "      <td>89.42</td>\n",
       "      <td>821</td>\n",
       "    </tr>\n",
       "    <tr>\n",
       "      <th>2</th>\n",
       "      <td>Netflix</td>\n",
       "      <td>101.17</td>\n",
       "      <td>5999</td>\n",
       "    </tr>\n",
       "  </tbody>\n",
       "</table>\n",
       "</div>"
      ],
      "text/plain": [
       "  platform duration_mins      \n",
       "                    mean count\n",
       "0   Amazon         93.73  7385\n",
       "1  Disney+         89.42   821\n",
       "2  Netflix        101.17  5999"
      ]
     },
     "execution_count": 543,
     "metadata": {},
     "output_type": "execute_result"
    }
   ],
   "source": [
    "only_movies = streaming_data[streaming_data['type']=='Movie'].copy()\n",
    "only_movies['duration_mins'] = only_movies['duration'].str.replace('min', '').astype('int')\n",
    "real_films = only_movies[(only_movies['duration_mins'] < 270) & (only_movies['duration_mins'] > 30)]\n",
    "films = real_films.groupby('platform')[['duration_mins']].agg(['mean', 'count']).round(2).reset_index()\n",
    "films"
   ]
  },
  {
   "cell_type": "markdown",
   "id": "10f05f28-e2a2-42eb-b4da-6312fd14d38d",
   "metadata": {},
   "source": [
    "### <center> On average, Netflix has longer movies at about 101 minutes long. Amazon Prime and Disney+ are on average about 7-11 minutes shorter. However, the Disney+ catalog is much smaller."
   ]
  },
  {
   "cell_type": "markdown",
   "id": "fa703fa6-1deb-499a-a761-53668797a8ab",
   "metadata": {},
   "source": [
    "## What about TV shows? Let's combine the data"
   ]
  },
  {
   "cell_type": "code",
   "execution_count": 542,
   "id": "27e7a6a7-ca22-46d2-a676-cf57cf895fa9",
   "metadata": {},
   "outputs": [
    {
     "name": "stderr",
     "output_type": "stream",
     "text": [
      "/tmp/ipykernel_53667/1436488383.py:6: PerformanceWarning: dropping on a non-lexsorted multi-index without a level parameter may impact performance.\n",
      "  combined_df = pd.merge(films, tv_shows, on='platform')\n"
     ]
    },
    {
     "data": {
      "text/html": [
       "<div>\n",
       "<style scoped>\n",
       "    .dataframe tbody tr th:only-of-type {\n",
       "        vertical-align: middle;\n",
       "    }\n",
       "\n",
       "    .dataframe tbody tr th {\n",
       "        vertical-align: top;\n",
       "    }\n",
       "\n",
       "    .dataframe thead tr th {\n",
       "        text-align: left;\n",
       "    }\n",
       "</style>\n",
       "<table border=\"1\" class=\"dataframe\">\n",
       "  <thead>\n",
       "    <tr>\n",
       "      <th></th>\n",
       "      <th>platform</th>\n",
       "      <th colspan=\"2\" halign=\"left\">duration_mins</th>\n",
       "      <th colspan=\"2\" halign=\"left\">duration_seasons</th>\n",
       "    </tr>\n",
       "    <tr>\n",
       "      <th></th>\n",
       "      <th></th>\n",
       "      <th>mean</th>\n",
       "      <th>count</th>\n",
       "      <th>mean</th>\n",
       "      <th>count</th>\n",
       "    </tr>\n",
       "  </thead>\n",
       "  <tbody>\n",
       "    <tr>\n",
       "      <th>0</th>\n",
       "      <td>Amazon</td>\n",
       "      <td>93.73</td>\n",
       "      <td>7385</td>\n",
       "      <td>1.72</td>\n",
       "      <td>1854</td>\n",
       "    </tr>\n",
       "    <tr>\n",
       "      <th>1</th>\n",
       "      <td>Disney+</td>\n",
       "      <td>89.42</td>\n",
       "      <td>821</td>\n",
       "      <td>2.12</td>\n",
       "      <td>398</td>\n",
       "    </tr>\n",
       "    <tr>\n",
       "      <th>2</th>\n",
       "      <td>Netflix</td>\n",
       "      <td>101.17</td>\n",
       "      <td>5999</td>\n",
       "      <td>1.76</td>\n",
       "      <td>2676</td>\n",
       "    </tr>\n",
       "  </tbody>\n",
       "</table>\n",
       "</div>"
      ],
      "text/plain": [
       "  platform duration_mins       duration_seasons      \n",
       "                    mean count             mean count\n",
       "0   Amazon         93.73  7385             1.72  1854\n",
       "1  Disney+         89.42   821             2.12   398\n",
       "2  Netflix        101.17  5999             1.76  2676"
      ]
     },
     "execution_count": 542,
     "metadata": {},
     "output_type": "execute_result"
    }
   ],
   "source": [
    "only_shows = streaming_data[streaming_data['type']=='TV Show'].copy()\n",
    "\n",
    "only_shows['duration_seasons'] = only_shows['duration'].str.replace('Seasons', '')\n",
    "only_shows['duration_seasons'] = only_shows['duration_seasons'].str.replace('Season', '').astype('int')\n",
    "tv_shows = only_shows.groupby('platform')[['duration_seasons']].agg(['mean', 'count']).round(2).reset_index()\n",
    "combined_df = pd.merge(films, tv_shows, on='platform')\n",
    "combined_df"
   ]
  },
  {
   "cell_type": "markdown",
   "id": "e7a9d5c3-fd19-4398-be20-395f533e1623",
   "metadata": {},
   "source": [
    "### <center> Disney+ is the only platform with an average season that is over 2. This may be due to the fact that they prioritize quality over quantity."
   ]
  },
  {
   "cell_type": "markdown",
   "id": "0068eab0-b49c-466b-9287-d7dd75fe0303",
   "metadata": {},
   "source": [
    "\n",
    "## Let's compare the distribution of content ratings across platforms"
   ]
  },
  {
   "cell_type": "code",
   "execution_count": 521,
   "id": "aba46a58-06c1-4c36-90c2-e221ef3db73d",
   "metadata": {},
   "outputs": [
    {
     "data": {
      "image/png": "[encoded data removed]",
      "text/plain": [
       "<Figure size 1800x600 with 3 Axes>"
      ]
     },
     "metadata": {},
     "output_type": "display_data"
    }
   ],
   "source": [
    "content_ratings = streaming_data.groupby(['rating','platform'])[['show_id']].count().reset_index()\n",
    "content_ratings = content_ratings.rename(columns={'show_id': 'count'})\n",
    "platforms = ['Netflix', 'Amazon', 'Disney+']\n",
    "\n",
    "\n",
    "fig, axs = plt.subplots(1, 3, figsize=(18, 6))\n",
    "\n",
    "\n",
    "for i, platform in enumerate(platforms):\n",
    "    \n",
    "    platform_data = content_ratings[content_ratings['platform'] == platform]\n",
    "    \n",
    "    \n",
    "    ratings = platform_data['rating']\n",
    "    counts = platform_data['count']\n",
    "    \n",
    "\n",
    "    axs[i].pie(counts, labels=ratings, autopct='%1.1f%%', startangle=90)\n",
    "    axs[i].set_title(f'{platform} Content Rating Distribution')\n",
    "\n",
    "\n",
    "plt.tight_layout()\n",
    "plt.show()"
   ]
  },
  {
   "cell_type": "markdown",
   "id": "5fee939f-4ed8-483d-b68b-2f5d195b5c85",
   "metadata": {},
   "source": [
    "### <center> The data indicates that Amazon and Netflix offer a wide variety of content across different age ratings, with R-rated content being the most prevalent on both platforms, while Disney+ has a more limited selection, particularly in PG and below categories."
   ]
  },
  {
   "cell_type": "markdown",
   "id": "97a2d1d1-da75-488f-bbdb-04d7b5e1def0",
   "metadata": {},
   "source": [
    "## Finally, Let's analyze the diversity of content based on the country of origin"
   ]
  },
  {
   "cell_type": "code",
   "execution_count": 607,
   "id": "e4a1674b-c952-4ed3-8da0-b2b30bcafb3f",
   "metadata": {},
   "outputs": [
    {
     "data": {
      "text/html": [
       "<div>\n",
       "<style scoped>\n",
       "    .dataframe tbody tr th:only-of-type {\n",
       "        vertical-align: middle;\n",
       "    }\n",
       "\n",
       "    .dataframe tbody tr th {\n",
       "        vertical-align: top;\n",
       "    }\n",
       "\n",
       "    .dataframe thead th {\n",
       "        text-align: right;\n",
       "    }\n",
       "</style>\n",
       "<table border=\"1\" class=\"dataframe\">\n",
       "  <thead>\n",
       "    <tr style=\"text-align: right;\">\n",
       "      <th></th>\n",
       "      <th>country</th>\n",
       "      <th>count</th>\n",
       "    </tr>\n",
       "  </thead>\n",
       "  <tbody>\n",
       "    <tr>\n",
       "      <th>0</th>\n",
       "      <td>United States</td>\n",
       "      <td>5207</td>\n",
       "    </tr>\n",
       "    <tr>\n",
       "      <th>1</th>\n",
       "      <td>India</td>\n",
       "      <td>1297</td>\n",
       "    </tr>\n",
       "    <tr>\n",
       "      <th>2</th>\n",
       "      <td>United Kingdom</td>\n",
       "      <td>972</td>\n",
       "    </tr>\n",
       "    <tr>\n",
       "      <th>3</th>\n",
       "      <td>Canada</td>\n",
       "      <td>557</td>\n",
       "    </tr>\n",
       "    <tr>\n",
       "      <th>4</th>\n",
       "      <td>France</td>\n",
       "      <td>435</td>\n",
       "    </tr>\n",
       "    <tr>\n",
       "      <th>5</th>\n",
       "      <td>Japan</td>\n",
       "      <td>334</td>\n",
       "    </tr>\n",
       "    <tr>\n",
       "      <th>6</th>\n",
       "      <td>Germany</td>\n",
       "      <td>252</td>\n",
       "    </tr>\n",
       "    <tr>\n",
       "      <th>7</th>\n",
       "      <td>Spain</td>\n",
       "      <td>247</td>\n",
       "    </tr>\n",
       "    <tr>\n",
       "      <th>8</th>\n",
       "      <td>South Korea</td>\n",
       "      <td>245</td>\n",
       "    </tr>\n",
       "    <tr>\n",
       "      <th>9</th>\n",
       "      <td>Australia</td>\n",
       "      <td>189</td>\n",
       "    </tr>\n",
       "  </tbody>\n",
       "</table>\n",
       "</div>"
      ],
      "text/plain": [
       "          country  count\n",
       "0   United States   5207\n",
       "1           India   1297\n",
       "2  United Kingdom    972\n",
       "3          Canada    557\n",
       "4          France    435\n",
       "5           Japan    334\n",
       "6         Germany    252\n",
       "7           Spain    247\n",
       "8     South Korea    245\n",
       "9       Australia    189"
      ]
     },
     "execution_count": 607,
     "metadata": {},
     "output_type": "execute_result"
    }
   ],
   "source": [
    "diversity_data = streaming_data.copy()\n",
    "diversity_data['country'] = diversity_data['country'].str.split(', ')\n",
    "\n",
    "\n",
    "diversity_data = diversity_data.explode('country')\n",
    "diversity_data = diversity_data[diversity_data['country']!='Not Listed']\n",
    "diversity_data['country'].value_counts().reset_index().head(10)"
   ]
  },
  {
   "cell_type": "markdown",
   "id": "5de8cbb0-7273-4e13-8a12-b51707abed06",
   "metadata": {},
   "source": [
    "### <center> We can see that the biggest markets include the likes of the US, India, and the UK"
   ]
  }
 ],
 "metadata": {
  "kernelspec": {
   "display_name": "Python 3 (ipykernel)",
   "language": "python",
   "name": "python3"
  },
  "language_info": {
   "codemirror_mode": {
    "name": "ipython",
    "version": 3
   },
   "file_extension": ".py",
   "mimetype": "text/x-python",
   "name": "python",
   "nbconvert_exporter": "python",
   "pygments_lexer": "ipython3",
   "version": "3.11.7"
  }
 },
 "nbformat": 4,
 "nbformat_minor": 5
}
