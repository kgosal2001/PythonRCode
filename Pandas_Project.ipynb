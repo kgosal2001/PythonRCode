{
  "nbformat": 4,
  "nbformat_minor": 0,
  "metadata": {
    "colab": {
      "provenance": [],
      "authorship_tag": "ABX9TyN8AVXarVPft1Ra5SxSIU2+",
      "include_colab_link": true
    },
    "kernelspec": {
      "name": "python3",
      "display_name": "Python 3"
    },
    "language_info": {
      "name": "python"
    }
  },
  "cells": [
    {
      "cell_type": "markdown",
      "metadata": {
        "id": "view-in-github",
        "colab_type": "text"
      },
      "source": [
        "<a href=\"https://colab.research.google.com/github/kgosal2001/Data_analytics/blob/main/Pandas_Project.ipynb\" target=\"_parent\"><img src=\"https://colab.research.google.com/assets/colab-badge.svg\" alt=\"Open In Colab\"/></a>"
      ]
    },
    {
      "cell_type": "code",
      "metadata": {
        "id": "KKljdqcQKnGd"
      },
      "source": [
        "import pandas as pd\n",
        "xl = pd.ExcelFile(\"/content/TableauSalesData.xlsx\")\n",
        "SalesData = xl.parse(\"Orders\")"
      ],
      "execution_count": null,
      "outputs": []
    },
    {
      "cell_type": "code",
      "metadata": {
        "colab": {
          "base_uri": "https://localhost:8080/"
        },
        "id": "tAjeHMjZrfss",
        "outputId": "cc79c7dd-a676-481d-8e9e-6419f03c0d48"
      },
      "source": [
        "SubCatProfits = SalesData[[\"Sub-Category\", \"Profit\", \"Sales\"]]\n",
        "print(SubCatProfits)"
      ],
      "execution_count": null,
      "outputs": [
        {
          "output_type": "stream",
          "name": "stdout",
          "text": [
            "     Sub-Category    Profit    Sales\n",
            "0       Bookcases   38.2668  173.940\n",
            "1          Phones   67.2742  231.980\n",
            "2         Storage   28.6150  114.460\n",
            "3     Accessories   -5.2640   30.080\n",
            "4     Accessories   -6.2100  165.600\n",
            "...           ...       ...      ...\n",
            "9989      Binders  167.8080  364.800\n",
            "9990      Storage  -26.7204  152.688\n",
            "9991    Fasteners    0.5668    3.488\n",
            "9992     Supplies   -1.3248    5.888\n",
            "9993      Binders   52.3800  116.400\n",
            "\n",
            "[9994 rows x 3 columns]\n"
          ]
        }
      ]
    },
    {
      "cell_type": "code",
      "metadata": {
        "colab": {
          "base_uri": "https://localhost:8080/"
        },
        "id": "MC4th8J8sYO6",
        "outputId": "c3dc3546-436a-4be4-910a-a275b44d5064"
      },
      "source": [
        "TotalSubCatProfits = SubCatProfits.groupby(\"Sub-Category\").sum().sort_values(\"Profit\")\n",
        "print(TotalSubCatProfits)"
      ],
      "execution_count": null,
      "outputs": [
        {
          "output_type": "stream",
          "name": "stdout",
          "text": [
            "                  Profit        Sales\n",
            "Sub-Category                         \n",
            "Tables       -17725.4811  206965.5320\n",
            "Bookcases     -3472.5560  114879.9963\n",
            "Supplies      -1189.0995   46673.5380\n",
            "Fasteners       949.5182    3024.2800\n",
            "Machines       3384.7569  189238.6310\n",
            "Labels         5546.2540   12486.3120\n",
            "Art            6527.7870   27118.7920\n",
            "Envelopes      6964.1767   16476.4020\n",
            "Furnishings   13059.1436   91705.1640\n",
            "Appliances    18138.0054  107532.1610\n",
            "Storage       21278.8264  223843.6080\n",
            "Chairs        26590.1663  328449.1030\n",
            "Binders       30221.7633  203412.7330\n",
            "Paper         34053.5693   78479.2060\n",
            "Accessories   41936.6357  167380.3180\n",
            "Phones        44515.7306  330007.0540\n",
            "Copiers       55617.8249  149528.0300\n"
          ]
        }
      ]
    },
    {
      "cell_type": "code",
      "metadata": {
        "colab": {
          "base_uri": "https://localhost:8080/"
        },
        "id": "DAaEgl_6vE0j",
        "outputId": "874023de-a96d-4799-eb3f-ed38f80e9f84"
      },
      "source": [
        "JustBookcases = SalesData.loc[SalesData[\"Sub-Category\"]== \"Bookcases\"]\n",
        "print(JustBookcases)"
      ],
      "execution_count": null,
      "outputs": [
        {
          "output_type": "stream",
          "name": "stdout",
          "text": [
            "      Row ID        Order ID Order Date  ... Quantity Discount    Profit\n",
            "0       4919  CA-2017-160304 2017-01-02  ...        3     0.00   38.2668\n",
            "17      6851  US-2017-100461 2017-01-08  ...        6     0.00  407.1288\n",
            "52      2472  US-2017-135923 2017-01-22  ...        4     0.20  -67.6704\n",
            "78      7566  US-2017-166660 2017-01-30  ...        1     0.00    7.7728\n",
            "104     1387  US-2017-108504 2017-02-05  ...        2     0.00   52.7956\n",
            "...      ...             ...        ...  ...      ...      ...       ...\n",
            "9923    1370  US-2020-103471 2020-12-24  ...        7     0.70 -786.7440\n",
            "9937    4111  CA-2020-153717 2020-12-25  ...        1     0.00   20.9274\n",
            "9947    7337  CA-2020-113152 2020-12-25  ...        2     0.20   56.1960\n",
            "9954      39  CA-2020-117415 2020-12-27  ...        3     0.32  -46.9764\n",
            "9970    8729  CA-2020-103870 2020-12-27  ...        2     0.20    8.1940\n",
            "\n",
            "[228 rows x 21 columns]\n"
          ]
        }
      ]
    },
    {
      "cell_type": "code",
      "metadata": {
        "colab": {
          "base_uri": "https://localhost:8080/"
        },
        "id": "os_lCrUQ0ylS",
        "outputId": "c8c31281-b564-40dc-cad2-d6500847844d"
      },
      "source": [
        "RegJustBookcasesDiscount = JustBookcases[[\"Region\", \"Discount\", \"Profit\", \"Sales\"]].groupby(\"Region\").agg({\"Discount\": \"mean\", \"Sales\": 'sum', \"Profit\": 'sum'})\n",
        "print(RegJustBookcasesDiscount)"
      ],
      "execution_count": null,
      "outputs": [
        {
          "output_type": "stream",
          "name": "stdout",
          "text": [
            "         Discount       Sales     Profit\n",
            "Region                                  \n",
            "Central   0.23280  24157.1768 -1997.9043\n",
            "East      0.22000  43819.3340 -1167.6318\n",
            "South     0.10000  10899.3620  1339.4918\n",
            "West      0.22875  36004.1235 -1646.5117\n"
          ]
        }
      ]
    },
    {
      "cell_type": "code",
      "metadata": {
        "colab": {
          "base_uri": "https://localhost:8080/"
        },
        "id": "IkYKkaxuHopj",
        "outputId": "88b0e7c3-1416-4047-cdc4-99601987aff8"
      },
      "source": [
        "BookcaseRegion = JustBookcases[[\"Region\", \"Profit\", \"Sales\"]]\n",
        "RegionTotalProfSales = BookcaseRegion.groupby(\"Region\").sum().sort_values(\"Profit\")\n",
        "print(RegionTotalProfSales)"
      ],
      "execution_count": null,
      "outputs": [
        {
          "output_type": "stream",
          "name": "stdout",
          "text": [
            "            Profit       Sales\n",
            "Region                        \n",
            "Central -1997.9043  24157.1768\n",
            "West    -1646.5117  36004.1235\n",
            "East    -1167.6318  43819.3340\n",
            "South    1339.4918  10899.3620\n"
          ]
        }
      ]
    },
    {
      "cell_type": "code",
      "metadata": {
        "colab": {
          "base_uri": "https://localhost:8080/"
        },
        "id": "C2U3YazuNgb6",
        "outputId": "b2ecaf10-047d-4a68-dd51-6170d42e37ca"
      },
      "source": [
        "BookCaseSegRegion = JustBookcases[[\"Segment\", \"Region\", \"Profit\", \"Sales\"]]\n",
        "CentralBookCaseSegment = BookCaseSegRegion.loc[BookCaseSegRegion[\"Region\"]== \"Central\"]\n",
        "CentralProfSales = CentralBookCaseSegment.groupby(\"Segment\").sum().sort_values(\"Profit\")\n",
        "print(CentralProfSales)"
      ],
      "execution_count": null,
      "outputs": [
        {
          "output_type": "stream",
          "name": "stdout",
          "text": [
            "                Profit       Sales\n",
            "Segment                           \n",
            "Consumer    -1497.1260  12960.8540\n",
            "Corporate    -382.7121   8389.5008\n",
            "Home Office  -118.0662   2806.8220\n"
          ]
        }
      ]
    },
    {
      "cell_type": "code",
      "metadata": {
        "colab": {
          "base_uri": "https://localhost:8080/"
        },
        "id": "2DdjZWw7JbBQ",
        "outputId": "84e7a3ee-fdc9-4cd0-f9de-5bef0f48cf82"
      },
      "source": [
        "BookcaseState = JustBookcases[[\"State\", \"Region\", \"Profit\", \"Sales\"]]\n",
        "CentralBookcaseState = BookcaseState.loc[BookcaseState[\"Region\"]== \"Central\"]\n",
        "StateProfSales = CentralBookcaseState.groupby(\"State\").sum().sort_values(\"Profit\")\n",
        "print(StateProfSales)"
      ],
      "execution_count": null,
      "outputs": [
        {
          "output_type": "stream",
          "name": "stdout",
          "text": [
            "                 Profit       Sales\n",
            "State                              \n",
            "Texas        -2391.1377  14493.4588\n",
            "Illinois      -555.8726   4282.6980\n",
            "South Dakota    39.7488    141.9600\n",
            "Missouri        53.2350    212.9400\n",
            "Oklahoma        54.7136    341.9600\n",
            "Michigan       150.6456    810.2000\n",
            "Wisconsin      650.7630   3873.9600\n"
          ]
        }
      ]
    },
    {
      "cell_type": "code",
      "metadata": {
        "colab": {
          "base_uri": "https://localhost:8080/"
        },
        "id": "BmH9Nx9JFOcA",
        "outputId": "1c48ae3d-539d-4ad4-895d-03626b5b0fc8"
      },
      "source": [
        "JustTexasBookcases = JustBookcases.loc[JustBookcases[\"State\"]== \"Missouri\"]\n",
        "JustBookcasesMonths = JustTexasBookcases.copy()\n",
        "JustBookcasesMonths[\"Month\"] = JustBookcasesMonths[\"Order Date\"].dt.month\n",
        "AvgBookcases = JustBookcasesMonths[[\"Month\", \"Sales\", \"Discount\"]].groupby(by=[\"Month\"]).mean()\n",
        "print(AvgBookcases)"
      ],
      "execution_count": null,
      "outputs": [
        {
          "output_type": "stream",
          "name": "stdout",
          "text": [
            "        Sales  Discount\n",
            "Month                  \n",
            "1      212.94       0.0\n"
          ]
        }
      ]
    },
    {
      "cell_type": "code",
      "metadata": {
        "colab": {
          "base_uri": "https://localhost:8080/"
        },
        "id": "dE12JsFrH6b4",
        "outputId": "2ca1c203-cf6f-4a32-c247-2f829b091ac6"
      },
      "source": [
        "TexasDiscounts = JustBookcases.loc[JustBookcases[\"State\"]== \"Texas\"]\n",
        "JustTexasDiscounts = TexasDiscounts[[\"State\", \"Discount\"]].groupby(\"State\").mean()\n",
        "print(JustTexasDiscounts)"
      ],
      "execution_count": null,
      "outputs": [
        {
          "output_type": "stream",
          "name": "stdout",
          "text": [
            "       Discount\n",
            "State          \n",
            "Texas      0.32\n"
          ]
        }
      ]
    },
    {
      "cell_type": "code",
      "metadata": {
        "colab": {
          "base_uri": "https://localhost:8080/"
        },
        "id": "dVwaVAt-JOEI",
        "outputId": "896f1814-8115-4b89-e3a7-a2baff31f9eb"
      },
      "source": [
        "JustBookcasesYears = JustTexasBookcases.copy()\n",
        "JustBookcasesYears[\"Year\"] = JustBookcasesYears[\"Order Date\"].dt.year\n",
        "YearlyProfSales = JustBookcasesYears [[\"Year\", \"Profit\", \"Sales\", \"Discount\"]].groupby(by= \"Year\").agg({\"Sales\": 'sum', \"Discount\": \"mean\"})\n",
        "print(\"The yearly profit and sales for bookcases in Texas are: \")\n",
        "print(YearlyProfSales)"
      ],
      "execution_count": null,
      "outputs": [
        {
          "output_type": "stream",
          "name": "stdout",
          "text": [
            "The yearly profit and sales for bookcases in Texas are: \n",
            "          Sales  Discount\n",
            "Year                     \n",
            "2017  5489.1640      0.32\n",
            "2018  3717.1112      0.32\n",
            "2019   561.5916      0.32\n",
            "2020  4725.5920      0.32\n"
          ]
        }
      ]
    }
  ]
}