{
  "nbformat": 4,
  "nbformat_minor": 0,
  "metadata": {
    "colab": {
      "provenance": [],
      "authorship_tag": "ABX9TyOs/SqtjFz1ru7A7pytzvrr",
      "include_colab_link": true
    },
    "kernelspec": {
      "display_name": "Python 3",
      "name": "python3"
    },
    "language_info": {
      "name": "python"
    }
  },
  "cells": [
    {
      "cell_type": "markdown",
      "metadata": {
        "id": "view-in-github",
        "colab_type": "text"
      },
      "source": [
        "<a href=\"https://colab.research.google.com/github/kgosal2001/Data_analytics/blob/main/Karanvir_Gosal.ipynb\" target=\"_parent\"><img src=\"https://colab.research.google.com/assets/colab-badge.svg\" alt=\"Open In Colab\"/></a>"
      ]
    },
    {
      "cell_type": "code",
      "metadata": {
        "id": "2jLEedGyBvX1"
      },
      "source": [
        "import pandas as pd\n",
        "xl = pd.ExcelFile(\"/content/TableauSalesData.xlsx\")\n",
        "SalesData = xl.parse(\"Orders\")"
      ],
      "execution_count": 2,
      "outputs": []
    },
    {
      "cell_type": "code",
      "metadata": {
        "id": "xvBTYefaR79g"
      },
      "source": [
        "# This is the total profit and sales of all sub-categories\n",
        "def SubCatProfSales():\n",
        "  SubCatProfits = SalesData[[\"Sub-Category\", \"Profit\", \"Sales\"]]\n",
        "  TotalSubCatProfits = SubCatProfits.groupby(\"Sub-Category\").sum().sort_values(\"Profit\")\n",
        "  print(\"Total Profit and Sales of All Sub-Categories: \")\n",
        "  print()\n",
        "  display(TotalSubCatProfits)"
      ],
      "execution_count": null,
      "outputs": []
    },
    {
      "cell_type": "code",
      "metadata": {
        "id": "rR1FQ1ypjf6o"
      },
      "source": [
        "# This is the average discount of bookcases in each Region\n",
        "def Discounts():\n",
        "  JustBookcases = SalesData.loc[SalesData[\"Sub-Category\"]== \"Bookcases\"]\n",
        "  RegJustBookcasesDiscount = JustBookcases[[\"Region\", \"Discount\"]].groupby(\"Region\").mean()\n",
        "  print(\"Average Discount of Bookcases by Region: \")\n",
        "  print()\n",
        "  display(RegJustBookcasesDiscount)"
      ],
      "execution_count": null,
      "outputs": []
    },
    {
      "cell_type": "code",
      "metadata": {
        "id": "JJXi7cLDlBSe"
      },
      "source": [
        "# This is the total profit and sales for bookcases in each Region\n",
        "def RegionProfSales():\n",
        "  BookcaseRegion = JustBookcases[[\"Region\", \"Profit\", \"Sales\"]]\n",
        "  RegionTotalProfSales = BookcaseRegion.groupby(\"Region\").sum().sort_values(\"Profit\")\n",
        "  print(\"Total Bookcase Profit and Sales by Region: \")\n",
        "  print()\n",
        "  display(RegionTotalProfSales)"
      ],
      "execution_count": null,
      "outputs": []
    },
    {
      "cell_type": "code",
      "metadata": {
        "id": "SWkmbN_Y3jnO"
      },
      "source": [
        "# This is the total profit and sales for bookcases in each segment in the Central Region\n",
        "def SegmentProfSales():\n",
        "  JustBookcases = SalesData.loc[SalesData[\"Sub-Category\"]== \"Bookcases\"]\n",
        "  BookCaseSegRegion = JustBookcases[[\"Segment\", \"Region\", \"Profit\", \"Sales\"]]\n",
        "  CentralBookCaseSegment = BookCaseSegRegion.loc[BookCaseSegRegion[\"Region\"]== \"Central\"]\n",
        "  CentralProfSales = CentralBookCaseSegment.groupby(\"Segment\").sum().sort_values(\"Profit\")\n",
        "  print(\"Total Bookcase Profit and Sales by Segment in the Central Region: \")\n",
        "  print()\n",
        "  display(CentralProfSales)"
      ],
      "execution_count": null,
      "outputs": []
    },
    {
      "cell_type": "code",
      "metadata": {
        "id": "KE76B-tu4UI0"
      },
      "source": [
        "# This is the total profit and sales for bookcases in each state in the Central Region\n",
        "def StateProfSales():\n",
        "  JustBookcases = SalesData.loc[SalesData[\"Sub-Category\"]== \"Bookcases\"]\n",
        "  BookcaseState = JustBookcases[[\"State\", \"Region\", \"Profit\", \"Sales\"]]\n",
        "  CentralBookcaseState = BookcaseState.loc[BookcaseState[\"Region\"]== \"Central\"]\n",
        "  StateProfSales = CentralBookcaseState.groupby(\"State\").sum().sort_values(\"Profit\")\n",
        "  print(\"Total Bookcase Profit and Sales for Each State in the Central Region: \")\n",
        "  print()\n",
        "  display(StateProfSales)\n"
      ],
      "execution_count": null,
      "outputs": []
    },
    {
      "cell_type": "code",
      "metadata": {
        "id": "ZcnZH2rf5Fjy"
      },
      "source": [
        "# This is the total yearly profit and sales for bookcases in the state of Texas\n",
        "def YearlySalesDisc():\n",
        "  JustTexasBookcases = JustBookcases.loc[JustBookcases[\"State\"]== \"Texas\"]\n",
        "  JustBookcasesYears = JustTexasBookcases.copy()\n",
        "  JustBookcasesYears[\"Year\"] = JustBookcasesYears[\"Order Date\"].dt.year\n",
        "  YearlyProfSales = JustBookcasesYears [[\"Year\", \"Sales\", \"Discount\"]].groupby(by= \"Year\").agg({\"Sales\": 'sum', \"Discount\": \"mean\"})\n",
        "  print(\"Total Yearly Profit and Sales for Bookcases in Texas: \")\n",
        "  print()\n",
        "  display(YearlyProfSales)"
      ],
      "execution_count": null,
      "outputs": []
    },
    {
      "cell_type": "code",
      "metadata": {
        "colab": {
          "base_uri": "https://localhost:8080/"
        },
        "id": "Q5zIGQ5HKYy0",
        "outputId": "d6189b10-78b0-4a05-c198-d902ffb600d2"
      },
      "source": [
        "# Main menu\n",
        "print(\"Welcome to the Office Solutions Data Analytics System!\")\n",
        "def Menu():\n",
        "  print()\n",
        "  print(\"*\"* 55)\n",
        "  print(\"\\n Enter 1 to see Total Profit and Sales of All Sub-Categories\" +\n",
        "        \"\\n Enter 2 to see Average Discount of Bookcases by Region\" +\n",
        "        \"\\n Enter 3 to see Total Bookcase Profit and Sales by Region\" +\n",
        "        \"\\n Enter 4 to see Total Bookcase Profit and Sales by Segment in the Central Region\" +\n",
        "        \"\\n Enter 5 to see Total Bookcase Profit and Sales for Each State in the Central Region\" +\n",
        "        \"\\n Enter 6 to see Total Yearly Profit and Sales for Bookcases in Texas\" +\n",
        "        \"\\n Enter 7 to Quit\")\n",
        "  option = input(\"Please enter an option: \")\n",
        "  print(\"\\n\")\n",
        "  if option == \"1\":\n",
        "    SubCatProfSales()\n",
        "    Menu()\n",
        "  elif option == \"2\":\n",
        "    Discounts()\n",
        "    Menu()\n",
        "  elif option == \"3\":\n",
        "    RegionProfSales()\n",
        "    Menu()\n",
        "  elif option == \"4\":\n",
        "    SegmentProfSales()\n",
        "    Menu()\n",
        "  elif option == \"5\":\n",
        "    StateProfSales()\n",
        "    Menu()\n",
        "  elif option == \"6\":\n",
        "    YearlySalesDisc()\n",
        "    Menu()\n",
        "  elif option == \"7\":\n",
        "    print(\"Thank you for using the Office Solutions Data Analytics System!\")\n",
        "  else:\n",
        "    print(\"You have entered an invalid option. Please enter a number 1-7.\")\n",
        "    Menu()\n",
        "\n",
        "Menu()"
      ],
      "execution_count": null,
      "outputs": [
        {
          "output_type": "stream",
          "name": "stdout",
          "text": [
            "Welcome to the Office Solutions Data Analytics System!\n",
            "\n",
            "*******************************************************\n",
            "\n",
            " Enter 1 to see Total Profit and Sales of All Sub-Categories\n",
            " Enter 2 to see Average Discount of Bookcases by Region\n",
            " Enter 3 to see Total Bookcase Profit and Sales by Region\n",
            " Enter 4 to see Total Bookcase Profit and Sales by Segment in the Central Region\n",
            " Enter 5 to see Total Bookcase Profit and Sales for Each State in the Central Region\n",
            " Enter 6 to see Total Yearly Profit and Sales for Bookcases in Texas\n",
            " Enter 7 to Quit\n"
          ]
        }
      ]
    }
  ]
}