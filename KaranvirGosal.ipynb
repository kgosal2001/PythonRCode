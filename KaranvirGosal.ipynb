{
  "cells": [
    {
      "cell_type": "markdown",
      "metadata": {
        "id": "view-in-github",
        "colab_type": "text"
      },
      "source": [
        "<a href=\"https://colab.research.google.com/github/kgosal2001/Data_analytics/blob/main/KaranvirGosal.ipynb\" target=\"_parent\"><img src=\"https://colab.research.google.com/assets/colab-badge.svg\" alt=\"Open In Colab\"/></a>"
      ]
    },
    {
      "cell_type": "markdown",
      "metadata": {
        "id": "uN1LnI753Gyg"
      },
      "source": [
        "<h1>\n",
        "<p style=\"color:red\"> 1. Simple Linear Regression </p>\n",
        "</h1>\n",
        "\n",
        "#### Create two arrays containing data for x and y variables\n",
        "#### Then run simple linear regression"
      ]
    },
    {
      "cell_type": "code",
      "execution_count": null,
      "metadata": {
        "colab": {
          "base_uri": "https://localhost:8080/"
        },
        "id": "ypLtp-jx3Gyj",
        "outputId": "bea2b87d-5ca8-4e0a-91ad-7d9ba7b4602a"
      },
      "outputs": [
        {
          "output_type": "stream",
          "name": "stdout",
          "text": [
            "LinregressResult(slope=3.0, intercept=2.0, rvalue=0.9454288003008773, pvalue=0.054571199699122705, stderr=0.7310832774866965, intercept_stderr=4.594787151274503)\n"
          ]
        }
      ],
      "source": [
        "# The numpy library is imported to build two arrays\n",
        "import numpy as np\n",
        "import scipy.stats as st\n",
        "x = np.array([0, 3, 7, 10])\n",
        "y = np.array([5, 5, 27, 31])\n",
        "print(st.linregress(x,y))"
      ]
    },
    {
      "cell_type": "code",
      "execution_count": null,
      "metadata": {
        "colab": {
          "base_uri": "https://localhost:8080/",
          "height": 204
        },
        "id": "bvC87mG33Gyn",
        "outputId": "be4a7162-3636-494f-f955-c619a8b9ec29"
      },
      "outputs": [
        {
          "output_type": "execute_result",
          "data": {
            "text/plain": [
              "   Exam1  Exam2  Exam3  Exam4\n",
              "0    100     66     74     68\n",
              "1     76     84    100     75\n",
              "2     89     80    100     95\n",
              "3     83     76     91     74\n",
              "4     86     99     78     78"
            ],
            "text/html": [
              "\n",
              "  <div id=\"df-11f99bac-3753-4a2f-9011-156cb8369a1e\">\n",
              "    <div class=\"colab-df-container\">\n",
              "      <div>\n",
              "<style scoped>\n",
              "    .dataframe tbody tr th:only-of-type {\n",
              "        vertical-align: middle;\n",
              "    }\n",
              "\n",
              "    .dataframe tbody tr th {\n",
              "        vertical-align: top;\n",
              "    }\n",
              "\n",
              "    .dataframe thead th {\n",
              "        text-align: right;\n",
              "    }\n",
              "</style>\n",
              "<table border=\"1\" class=\"dataframe\">\n",
              "  <thead>\n",
              "    <tr style=\"text-align: right;\">\n",
              "      <th></th>\n",
              "      <th>Exam1</th>\n",
              "      <th>Exam2</th>\n",
              "      <th>Exam3</th>\n",
              "      <th>Exam4</th>\n",
              "    </tr>\n",
              "  </thead>\n",
              "  <tbody>\n",
              "    <tr>\n",
              "      <th>0</th>\n",
              "      <td>100</td>\n",
              "      <td>66</td>\n",
              "      <td>74</td>\n",
              "      <td>68</td>\n",
              "    </tr>\n",
              "    <tr>\n",
              "      <th>1</th>\n",
              "      <td>76</td>\n",
              "      <td>84</td>\n",
              "      <td>100</td>\n",
              "      <td>75</td>\n",
              "    </tr>\n",
              "    <tr>\n",
              "      <th>2</th>\n",
              "      <td>89</td>\n",
              "      <td>80</td>\n",
              "      <td>100</td>\n",
              "      <td>95</td>\n",
              "    </tr>\n",
              "    <tr>\n",
              "      <th>3</th>\n",
              "      <td>83</td>\n",
              "      <td>76</td>\n",
              "      <td>91</td>\n",
              "      <td>74</td>\n",
              "    </tr>\n",
              "    <tr>\n",
              "      <th>4</th>\n",
              "      <td>86</td>\n",
              "      <td>99</td>\n",
              "      <td>78</td>\n",
              "      <td>78</td>\n",
              "    </tr>\n",
              "  </tbody>\n",
              "</table>\n",
              "</div>\n",
              "      <button class=\"colab-df-convert\" onclick=\"convertToInteractive('df-11f99bac-3753-4a2f-9011-156cb8369a1e')\"\n",
              "              title=\"Convert this dataframe to an interactive table.\"\n",
              "              style=\"display:none;\">\n",
              "        \n",
              "  <svg xmlns=\"http://www.w3.org/2000/svg\" height=\"24px\"viewBox=\"0 0 24 24\"\n",
              "       width=\"24px\">\n",
              "    <path d=\"M0 0h24v24H0V0z\" fill=\"none\"/>\n",
              "    <path d=\"M18.56 5.44l.94 2.06.94-2.06 2.06-.94-2.06-.94-.94-2.06-.94 2.06-2.06.94zm-11 1L8.5 8.5l.94-2.06 2.06-.94-2.06-.94L8.5 2.5l-.94 2.06-2.06.94zm10 10l.94 2.06.94-2.06 2.06-.94-2.06-.94-.94-2.06-.94 2.06-2.06.94z\"/><path d=\"M17.41 7.96l-1.37-1.37c-.4-.4-.92-.59-1.43-.59-.52 0-1.04.2-1.43.59L10.3 9.45l-7.72 7.72c-.78.78-.78 2.05 0 2.83L4 21.41c.39.39.9.59 1.41.59.51 0 1.02-.2 1.41-.59l7.78-7.78 2.81-2.81c.8-.78.8-2.07 0-2.86zM5.41 20L4 18.59l7.72-7.72 1.47 1.35L5.41 20z\"/>\n",
              "  </svg>\n",
              "      </button>\n",
              "      \n",
              "  <style>\n",
              "    .colab-df-container {\n",
              "      display:flex;\n",
              "      flex-wrap:wrap;\n",
              "      gap: 12px;\n",
              "    }\n",
              "\n",
              "    .colab-df-convert {\n",
              "      background-color: #E8F0FE;\n",
              "      border: none;\n",
              "      border-radius: 50%;\n",
              "      cursor: pointer;\n",
              "      display: none;\n",
              "      fill: #1967D2;\n",
              "      height: 32px;\n",
              "      padding: 0 0 0 0;\n",
              "      width: 32px;\n",
              "    }\n",
              "\n",
              "    .colab-df-convert:hover {\n",
              "      background-color: #E2EBFA;\n",
              "      box-shadow: 0px 1px 2px rgba(60, 64, 67, 0.3), 0px 1px 3px 1px rgba(60, 64, 67, 0.15);\n",
              "      fill: #174EA6;\n",
              "    }\n",
              "\n",
              "    [theme=dark] .colab-df-convert {\n",
              "      background-color: #3B4455;\n",
              "      fill: #D2E3FC;\n",
              "    }\n",
              "\n",
              "    [theme=dark] .colab-df-convert:hover {\n",
              "      background-color: #434B5C;\n",
              "      box-shadow: 0px 1px 3px 1px rgba(0, 0, 0, 0.15);\n",
              "      filter: drop-shadow(0px 1px 2px rgba(0, 0, 0, 0.3));\n",
              "      fill: #FFFFFF;\n",
              "    }\n",
              "  </style>\n",
              "\n",
              "      <script>\n",
              "        const buttonEl =\n",
              "          document.querySelector('#df-11f99bac-3753-4a2f-9011-156cb8369a1e button.colab-df-convert');\n",
              "        buttonEl.style.display =\n",
              "          google.colab.kernel.accessAllowed ? 'block' : 'none';\n",
              "\n",
              "        async function convertToInteractive(key) {\n",
              "          const element = document.querySelector('#df-11f99bac-3753-4a2f-9011-156cb8369a1e');\n",
              "          const dataTable =\n",
              "            await google.colab.kernel.invokeFunction('convertToInteractive',\n",
              "                                                     [key], {});\n",
              "          if (!dataTable) return;\n",
              "\n",
              "          const docLinkHtml = 'Like what you see? Visit the ' +\n",
              "            '<a target=\"_blank\" href=https://colab.research.google.com/notebooks/data_table.ipynb>data table notebook</a>'\n",
              "            + ' to learn more about interactive tables.';\n",
              "          element.innerHTML = '';\n",
              "          dataTable['output_type'] = 'display_data';\n",
              "          await google.colab.output.renderOutput(dataTable, element);\n",
              "          const docLink = document.createElement('div');\n",
              "          docLink.innerHTML = docLinkHtml;\n",
              "          element.appendChild(docLink);\n",
              "        }\n",
              "      </script>\n",
              "    </div>\n",
              "  </div>\n",
              "  "
            ]
          },
          "metadata": {},
          "execution_count": 2
        }
      ],
      "source": [
        "import pandas as pd\n",
        "scores = pd.read_csv(\"http://data-analytics.zybooks.com/ExamScores.csv\")\n",
        "scores.head()"
      ]
    },
    {
      "cell_type": "code",
      "execution_count": null,
      "metadata": {
        "colab": {
          "base_uri": "https://localhost:8080/"
        },
        "id": "eu1ZnwIW3Gyp",
        "outputId": "031b1b12-4e60-416f-fe4b-8b24ae51837c"
      },
      "outputs": [
        {
          "output_type": "execute_result",
          "data": {
            "text/plain": [
              "0    66\n",
              "1    84\n",
              "2    80\n",
              "3    76\n",
              "4    99\n",
              "Name: Exam2, dtype: int64"
            ]
          },
          "metadata": {},
          "execution_count": 3
        }
      ],
      "source": [
        "scores.Exam2.head()"
      ]
    },
    {
      "cell_type": "code",
      "execution_count": null,
      "metadata": {
        "colab": {
          "base_uri": "https://localhost:8080/"
        },
        "id": "Noxh7iil3Gyq",
        "outputId": "4ece9594-b685-4be8-b773-f486cc891ea6"
      },
      "outputs": [
        {
          "output_type": "stream",
          "name": "stdout",
          "text": [
            "          Exam2     Exam4\n",
            "Exam2  1.000000  0.318124\n",
            "Exam4  0.318124  1.000000\n"
          ]
        }
      ],
      "source": [
        "# Correlation\n",
        "print(scores[['Exam2','Exam4']].corr())"
      ]
    },
    {
      "cell_type": "code",
      "execution_count": null,
      "metadata": {
        "id": "xLCXQm7L3Gyr",
        "outputId": "c9e5bd46-e788-48e5-a61d-cd510e1033f3"
      },
      "outputs": [
        {
          "name": "stderr",
          "output_type": "stream",
          "text": [
            "/opt/anaconda3/lib/python3.9/site-packages/seaborn/_decorators.py:36: FutureWarning: Pass the following variables as keyword args: x, y. From version 0.12, the only valid positional argument will be `data`, and passing other arguments without an explicit keyword will result in an error or misinterpretation.\n",
            "  warnings.warn(\n"
          ]
        },
        {
          "data": {
            "image/png": "[encoded data removed]",
            "text/plain": [
              "<Figure size 432x288 with 1 Axes>"
            ]
          },
          "metadata": {
            "needs_background": "light"
          },
          "output_type": "display_data"
        }
      ],
      "source": [
        "# Let's plot these two variables to see whether their relationship appears to be linear\n",
        "import seaborn as sb\n",
        "import matplotlib.pyplot as plt  \n",
        "\n",
        "sb.scatterplot(scores.Exam2, scores.Exam4, color=\"#f57e42\")  \n",
        "plt.title('Exam 2 vs Exam 4')  \n",
        "plt.xlabel('Exam 2')  \n",
        "plt.ylabel('Exam 4')  \n",
        "plt.show()"
      ]
    },
    {
      "cell_type": "code",
      "execution_count": null,
      "metadata": {
        "id": "a7eK8wXS3Gys",
        "outputId": "187d8486-39c8-40ac-a76d-63939c0aeb32"
      },
      "outputs": [
        {
          "data": {
            "text/html": [
              "<div>\n",
              "<style scoped>\n",
              "    .dataframe tbody tr th:only-of-type {\n",
              "        vertical-align: middle;\n",
              "    }\n",
              "\n",
              "    .dataframe tbody tr th {\n",
              "        vertical-align: top;\n",
              "    }\n",
              "\n",
              "    .dataframe thead th {\n",
              "        text-align: right;\n",
              "    }\n",
              "</style>\n",
              "<table border=\"1\" class=\"dataframe\">\n",
              "  <thead>\n",
              "    <tr style=\"text-align: right;\">\n",
              "      <th></th>\n",
              "      <th>Exam1</th>\n",
              "      <th>Exam2</th>\n",
              "      <th>Exam3</th>\n",
              "      <th>Exam4</th>\n",
              "    </tr>\n",
              "  </thead>\n",
              "  <tbody>\n",
              "    <tr>\n",
              "      <th>Exam1</th>\n",
              "      <td>1.000000</td>\n",
              "      <td>0.078613</td>\n",
              "      <td>0.256859</td>\n",
              "      <td>0.261306</td>\n",
              "    </tr>\n",
              "    <tr>\n",
              "      <th>Exam2</th>\n",
              "      <td>0.078613</td>\n",
              "      <td>1.000000</td>\n",
              "      <td>0.271642</td>\n",
              "      <td>0.318124</td>\n",
              "    </tr>\n",
              "    <tr>\n",
              "      <th>Exam3</th>\n",
              "      <td>0.256859</td>\n",
              "      <td>0.271642</td>\n",
              "      <td>1.000000</td>\n",
              "      <td>0.277656</td>\n",
              "    </tr>\n",
              "    <tr>\n",
              "      <th>Exam4</th>\n",
              "      <td>0.261306</td>\n",
              "      <td>0.318124</td>\n",
              "      <td>0.277656</td>\n",
              "      <td>1.000000</td>\n",
              "    </tr>\n",
              "  </tbody>\n",
              "</table>\n",
              "</div>"
            ],
            "text/plain": [
              "          Exam1     Exam2     Exam3     Exam4\n",
              "Exam1  1.000000  0.078613  0.256859  0.261306\n",
              "Exam2  0.078613  1.000000  0.271642  0.318124\n",
              "Exam3  0.256859  0.271642  1.000000  0.277656\n",
              "Exam4  0.261306  0.318124  0.277656  1.000000"
            ]
          },
          "execution_count": 6,
          "metadata": {},
          "output_type": "execute_result"
        }
      ],
      "source": [
        "# Correlation\n",
        "scores.corr()"
      ]
    },
    {
      "cell_type": "code",
      "execution_count": null,
      "metadata": {
        "colab": {
          "base_uri": "https://localhost:8080/"
        },
        "id": "YH915KaE3Gyt",
        "outputId": "4c362bd2-6b6a-4c12-c679-c6cb0557c0a9"
      },
      "outputs": [
        {
          "output_type": "execute_result",
          "data": {
            "text/plain": [
              "PearsonRResult(statistic=0.3181239323214905, pvalue=0.024358768255531158)"
            ]
          },
          "metadata": {},
          "execution_count": 4
        }
      ],
      "source": [
        "# Below we compute correlation between Columns Exam2 and Exam4 of the ExamScore dataset\n",
        "# and the two-tailed p-value\n",
        "\n",
        "import pandas as pd\n",
        "import scipy.stats as st\n",
        "scores = pd.read_csv(\"http://data-analytics.zybooks.com/ExamScores.csv\")\n",
        "st.pearsonr(scores['Exam2'],scores['Exam4'])"
      ]
    },
    {
      "cell_type": "markdown",
      "metadata": {
        "id": "-3twJHlv3Gyu"
      },
      "source": [
        "## p-value\n",
        "\n",
        "##### When you perform a hypothesis test in statistics, a p-value helps you determine the significance of your results. Hypothesis tests are used to test the validity of a claim that is made about a population. This claim that’s on trial, in essence, is called the null hypothesis. The alternative hypothesis is the one you would believe if the null hypothesis is concluded to be untrue. The evidence in the trial is your data and the statistics that go along with it. All hypothesis tests ultimately use a p-value to weigh the strength of the evidence (what the data are telling you about the population). The p-value is a number between 0 and 1 and interpreted in the following way:\n",
        "\n",
        "**A small p-value (typically ≤ 0.05) indicates strong evidence against the null hypothesis, so you reject the null hypothesis.**\n",
        "\n",
        "**A large p-value (> 0.05) indicates weak evidence against the null hypothesis, so you fail to reject the null hypothesis.**\n",
        "\n",
        "**p-values very close to the cutoff (0.05) are considered to be marginal (could go either way). Always report the p-value so your readers can draw their own conclusions.**\n",
        "\n",
        "For example, suppose a pizza place claims their delivery times are 30 minutes or less on average but you think it’s more than that. You conduct a hypothesis test because you believe the null hypothesis, Ho, that the mean delivery time is 30 minutes max, is incorrect. Your alternative hypothesis (Ha) is that the mean time is greater than 30 minutes. You randomly sample some delivery times and run the data through the hypothesis test, and your p-value turns out to be 0.001, which is much less than 0.05. In real terms, there is a probability of 0.05 that you will mistakenly reject the pizza place’s claim that their delivery time is less than or equal to 30 minutes. Since typically we are willing to reject the null hypothesis when this probability is less than 0.05, you conclude that the pizza place is wrong; their delivery times are in fact more than 30 minutes on average, and you want to know what they’re gonna do about it! (Of course, you could be wrong by having sampled an unusually high number of late pizza deliveries just by chance.)\n",
        "\n",
        "SOURCE: https://www.dummies.com/education/math/statistics/what-a-p-value-tells-you-about-statistical-data/"
      ]
    },
    {
      "cell_type": "markdown",
      "metadata": {
        "id": "hYSGLtbp3Gyv"
      },
      "source": [
        "### The scipy.stats.pearsonr(x, y) function\n",
        "\n",
        "It calculates a Pearson correlation coefficient and the p-value for testing non-correlation.\n",
        "\n",
        "The Pearson correlation coefficient measures the linear relationship between two variables. Strictly speaking, Pearson’s correlation requires that each dataset be normally distributed. Like other correlation coefficients, this one varies between -1 and +1 with 0 implying no correlation. Correlations of -1 or +1 imply an exact linear relationship. Positive correlations imply that as x increases, so does y. Negative correlations imply that as x increases, y decreases.\n",
        "\n",
        "The p-value roughly indicates the probability of an uncorrelated system producing datasets that have a Pearson correlation at least as extreme as the one computed from these datasets."
      ]
    },
    {
      "cell_type": "markdown",
      "metadata": {
        "id": "WXjUrJg63Gyw"
      },
      "source": [
        "<h1>\n",
        "<p style=\"color:green\"> Question </p>\n",
        "</h1>\n",
        "\n",
        "#### A researcher claims that the packed cell volume (PCV) - the percent volume of red blood cells in blood - has a linear relationship with hemoglobin (Hb), a protein in red blood cells that carries oxygen from the lungs to the rest of the body. Using the pearsonr() function on the Hb and PCV columns of the PackedCellVolume dataset as shown below, determine whether sufficient evidence exists to support the researcher's claim at the significance level.\n",
        "\n",
        "### Note that the pearsonr() function generates correlation coefficient and p-value of the two-tailed t-test"
      ]
    },
    {
      "cell_type": "code",
      "execution_count": null,
      "metadata": {
        "colab": {
          "base_uri": "https://localhost:8080/",
          "height": 204
        },
        "id": "vvG7wqTV3Gyx",
        "outputId": "1bfa1b99-3176-4725-c9f7-7cc89342c446"
      },
      "outputs": [
        {
          "output_type": "execute_result",
          "data": {
            "text/plain": [
              "     Hb    PCV\n",
              "0  15.5  0.450\n",
              "1  13.6  0.420\n",
              "2  13.5  0.440\n",
              "3  13.0  0.395\n",
              "4  13.3  0.395"
            ],
            "text/html": [
              "\n",
              "  <div id=\"df-c1601f32-dc9c-4bee-9bba-38c3a1b2cd1d\">\n",
              "    <div class=\"colab-df-container\">\n",
              "      <div>\n",
              "<style scoped>\n",
              "    .dataframe tbody tr th:only-of-type {\n",
              "        vertical-align: middle;\n",
              "    }\n",
              "\n",
              "    .dataframe tbody tr th {\n",
              "        vertical-align: top;\n",
              "    }\n",
              "\n",
              "    .dataframe thead th {\n",
              "        text-align: right;\n",
              "    }\n",
              "</style>\n",
              "<table border=\"1\" class=\"dataframe\">\n",
              "  <thead>\n",
              "    <tr style=\"text-align: right;\">\n",
              "      <th></th>\n",
              "      <th>Hb</th>\n",
              "      <th>PCV</th>\n",
              "    </tr>\n",
              "  </thead>\n",
              "  <tbody>\n",
              "    <tr>\n",
              "      <th>0</th>\n",
              "      <td>15.5</td>\n",
              "      <td>0.450</td>\n",
              "    </tr>\n",
              "    <tr>\n",
              "      <th>1</th>\n",
              "      <td>13.6</td>\n",
              "      <td>0.420</td>\n",
              "    </tr>\n",
              "    <tr>\n",
              "      <th>2</th>\n",
              "      <td>13.5</td>\n",
              "      <td>0.440</td>\n",
              "    </tr>\n",
              "    <tr>\n",
              "      <th>3</th>\n",
              "      <td>13.0</td>\n",
              "      <td>0.395</td>\n",
              "    </tr>\n",
              "    <tr>\n",
              "      <th>4</th>\n",
              "      <td>13.3</td>\n",
              "      <td>0.395</td>\n",
              "    </tr>\n",
              "  </tbody>\n",
              "</table>\n",
              "</div>\n",
              "      <button class=\"colab-df-convert\" onclick=\"convertToInteractive('df-c1601f32-dc9c-4bee-9bba-38c3a1b2cd1d')\"\n",
              "              title=\"Convert this dataframe to an interactive table.\"\n",
              "              style=\"display:none;\">\n",
              "        \n",
              "  <svg xmlns=\"http://www.w3.org/2000/svg\" height=\"24px\"viewBox=\"0 0 24 24\"\n",
              "       width=\"24px\">\n",
              "    <path d=\"M0 0h24v24H0V0z\" fill=\"none\"/>\n",
              "    <path d=\"M18.56 5.44l.94 2.06.94-2.06 2.06-.94-2.06-.94-.94-2.06-.94 2.06-2.06.94zm-11 1L8.5 8.5l.94-2.06 2.06-.94-2.06-.94L8.5 2.5l-.94 2.06-2.06.94zm10 10l.94 2.06.94-2.06 2.06-.94-2.06-.94-.94-2.06-.94 2.06-2.06.94z\"/><path d=\"M17.41 7.96l-1.37-1.37c-.4-.4-.92-.59-1.43-.59-.52 0-1.04.2-1.43.59L10.3 9.45l-7.72 7.72c-.78.78-.78 2.05 0 2.83L4 21.41c.39.39.9.59 1.41.59.51 0 1.02-.2 1.41-.59l7.78-7.78 2.81-2.81c.8-.78.8-2.07 0-2.86zM5.41 20L4 18.59l7.72-7.72 1.47 1.35L5.41 20z\"/>\n",
              "  </svg>\n",
              "      </button>\n",
              "      \n",
              "  <style>\n",
              "    .colab-df-container {\n",
              "      display:flex;\n",
              "      flex-wrap:wrap;\n",
              "      gap: 12px;\n",
              "    }\n",
              "\n",
              "    .colab-df-convert {\n",
              "      background-color: #E8F0FE;\n",
              "      border: none;\n",
              "      border-radius: 50%;\n",
              "      cursor: pointer;\n",
              "      display: none;\n",
              "      fill: #1967D2;\n",
              "      height: 32px;\n",
              "      padding: 0 0 0 0;\n",
              "      width: 32px;\n",
              "    }\n",
              "\n",
              "    .colab-df-convert:hover {\n",
              "      background-color: #E2EBFA;\n",
              "      box-shadow: 0px 1px 2px rgba(60, 64, 67, 0.3), 0px 1px 3px 1px rgba(60, 64, 67, 0.15);\n",
              "      fill: #174EA6;\n",
              "    }\n",
              "\n",
              "    [theme=dark] .colab-df-convert {\n",
              "      background-color: #3B4455;\n",
              "      fill: #D2E3FC;\n",
              "    }\n",
              "\n",
              "    [theme=dark] .colab-df-convert:hover {\n",
              "      background-color: #434B5C;\n",
              "      box-shadow: 0px 1px 3px 1px rgba(0, 0, 0, 0.15);\n",
              "      filter: drop-shadow(0px 1px 2px rgba(0, 0, 0, 0.3));\n",
              "      fill: #FFFFFF;\n",
              "    }\n",
              "  </style>\n",
              "\n",
              "      <script>\n",
              "        const buttonEl =\n",
              "          document.querySelector('#df-c1601f32-dc9c-4bee-9bba-38c3a1b2cd1d button.colab-df-convert');\n",
              "        buttonEl.style.display =\n",
              "          google.colab.kernel.accessAllowed ? 'block' : 'none';\n",
              "\n",
              "        async function convertToInteractive(key) {\n",
              "          const element = document.querySelector('#df-c1601f32-dc9c-4bee-9bba-38c3a1b2cd1d');\n",
              "          const dataTable =\n",
              "            await google.colab.kernel.invokeFunction('convertToInteractive',\n",
              "                                                     [key], {});\n",
              "          if (!dataTable) return;\n",
              "\n",
              "          const docLinkHtml = 'Like what you see? Visit the ' +\n",
              "            '<a target=\"_blank\" href=https://colab.research.google.com/notebooks/data_table.ipynb>data table notebook</a>'\n",
              "            + ' to learn more about interactive tables.';\n",
              "          element.innerHTML = '';\n",
              "          dataTable['output_type'] = 'display_data';\n",
              "          await google.colab.output.renderOutput(dataTable, element);\n",
              "          const docLink = document.createElement('div');\n",
              "          docLink.innerHTML = docLinkHtml;\n",
              "          element.appendChild(docLink);\n",
              "        }\n",
              "      </script>\n",
              "    </div>\n",
              "  </div>\n",
              "  "
            ]
          },
          "metadata": {},
          "execution_count": 5
        }
      ],
      "source": [
        "## Read in data and view a few records of the data\n",
        "data = pd.read_csv(\"http://data-analytics.zybooks.com/PackedCellVolume.csv\")\n",
        "data.head()"
      ]
    },
    {
      "cell_type": "code",
      "execution_count": null,
      "metadata": {
        "colab": {
          "base_uri": "https://localhost:8080/"
        },
        "id": "sl3ZDb4y3Gyz",
        "outputId": "7a4943fc-8705-4454-d06d-0e187b772143"
      },
      "outputs": [
        {
          "output_type": "execute_result",
          "data": {
            "text/plain": [
              "PearsonRResult(statistic=0.8698855114729995, pvalue=5.262221892269392e-05)"
            ]
          },
          "metadata": {},
          "execution_count": 6
        }
      ],
      "source": [
        "import pandas as pd\n",
        "import scipy.stats\n",
        "scipy.stats.pearsonr(data['Hb'],data['PCV'])\n",
        "\n",
        "# In the output, you'll see p-value as 5.2622218922693876e-05, which equals 0.00005262222\n",
        "# And the correlation coefficient is .869"
      ]
    },
    {
      "cell_type": "markdown",
      "metadata": {
        "id": "7dyQr9O33Gy0"
      },
      "source": [
        "<h1>\n",
        "<p style=\"color:green\"> Review the above output and answer the following questions </p>\n",
        "</h1>\n",
        "\n",
        "#### Q1: What's the null hypotheses?\n",
        "(a)population correlation coefficent is zero: 𝜌 = 0\n",
        "(b) p is not zero or 𝜌 ≠ 0\n",
        "\n",
        "#### Q2: What is the alternate hypothesis?\n",
        "(a) 𝜌 = 0   (b) 𝜌 ≠ 0\n",
        "\n",
        "#### Q3: What's the p-value? \n",
        "(a) 5.262     (b) 2.62221    (c) none of the above\n",
        "\n",
        "##### Q4: What is the conclusion for the test?\n",
        "(a) Reject the null hypothesis\n",
        "(b) Fail to reject the null hypothesis"
      ]
    },
    {
      "cell_type": "markdown",
      "metadata": {
        "id": "fvR2_-fY3Gy1"
      },
      "source": [
        "<h1>\n",
        "<p style=\"color:red\"> 2. Multiple Linear Regression </p>\n",
        "</h1>\n",
        "\n",
        "#### Multiple linear regression is a way to model the linear relationship between one quantitative response variable and more than one predictor variable.\n",
        "#### EXAMPLE: A multiple linear regression model can be used to model the linear relationship between the quality of a car component and manufacturing inputs, such as machine speed and cutting angle, i.e.,\n",
        "Y = Quality of the car component is the response variable\n",
        "X1 = Speed and  X2 = Angle are two predictor variables\n",
        "\n",
        "#### For multiple linear regression, the population multiple linear regression function is:\n",
        "\n",
        "#### E(y) = b0 + b1X1 + b2X2 + ..... \n",
        "where b0 is the constant, and b1, b2, ... are regression parameters or weights"
      ]
    },
    {
      "cell_type": "markdown",
      "metadata": {
        "id": "Afx1vcUv3Gy2"
      },
      "source": [
        "## 3D scatterplot\n",
        "\n",
        "##### The mplot3d toolkit of matplotlib allows plotting of 3D objects such as scatterplots and 2D projections. \n"
      ]
    },
    {
      "cell_type": "code",
      "execution_count": null,
      "metadata": {
        "colab": {
          "base_uri": "https://localhost:8080/",
          "height": 262
        },
        "id": "Q9hwlibK3Gy3",
        "outputId": "29a2c9d9-7a58-4dc1-8c4e-79ad4018155a"
      },
      "outputs": [
        {
          "output_type": "display_data",
          "data": {
            "text/plain": [
              "<Figure size 432x288 with 1 Axes>"
            ],
            "image/png": "[encoded data removed]"
          },
          "metadata": {
            "needs_background": "light"
          }
        }
      ],
      "source": [
        "from mpl_toolkits.mplot3d import Axes3D\n",
        "import matplotlib.pyplot as plt\n",
        "import pandas as pd\n",
        "df = pd.read_csv(\"http://data-analytics.zybooks.com/Cars.csv\")\n",
        "fig = plt.figure()\n",
        "ax = fig.add_subplot(111, projection='3d')\n",
        "ax.scatter(df['Quality'], df['Speed'], df['Angle'], c='b', marker='o')\n",
        "ax.set_xlabel('Speed, X1')\n",
        "ax.set_ylabel('Angle, X2')\n",
        "ax.set_zlabel('Quality, Y')\n",
        "plt.savefig(\"3Dscatterplot.png\")"
      ]
    },
    {
      "cell_type": "code",
      "execution_count": null,
      "metadata": {
        "colab": {
          "base_uri": "https://localhost:8080/"
        },
        "id": "lf9-V_ia3Gy4",
        "outputId": "651331a7-16e8-40fc-d3d9-d877f51d7d67"
      },
      "outputs": [
        {
          "output_type": "stream",
          "name": "stdout",
          "text": [
            "                            OLS Regression Results                            \n",
            "==============================================================================\n",
            "Dep. Variable:                  Exam4   R-squared:                       0.178\n",
            "Model:                            OLS   Adj. R-squared:                  0.125\n",
            "Method:                 Least Squares   F-statistic:                     3.329\n",
            "Date:                Wed, 15 Mar 2023   Prob (F-statistic):             0.0276\n",
            "Time:                        05:18:43   Log-Likelihood:                -169.85\n",
            "No. Observations:                  50   AIC:                             347.7\n",
            "Df Residuals:                      46   BIC:                             355.4\n",
            "Df Model:                           3                                         \n",
            "Covariance Type:            nonrobust                                         \n",
            "==============================================================================\n",
            "                 coef    std err          t      P>|t|      [0.025      0.975]\n",
            "------------------------------------------------------------------------------\n",
            "Intercept     46.2612     10.969      4.217      0.000      24.181      68.341\n",
            "Exam1          0.1742      0.120      1.453      0.153      -0.067       0.416\n",
            "Exam2          0.1462      0.078      1.873      0.067      -0.011       0.303\n",
            "Exam3          0.0575      0.053      1.085      0.284      -0.049       0.164\n",
            "==============================================================================\n",
            "Omnibus:                        0.886   Durbin-Watson:                   1.530\n",
            "Prob(Omnibus):                  0.642   Jarque-Bera (JB):                0.738\n",
            "Skew:                           0.290   Prob(JB):                        0.691\n",
            "Kurtosis:                       2.868   Cond. No.                     1.41e+03\n",
            "==============================================================================\n",
            "\n",
            "Notes:\n",
            "[1] Standard Errors assume that the covariance matrix of the errors is correctly specified.\n",
            "[2] The condition number is large, 1.41e+03. This might indicate that there are\n",
            "strong multicollinearity or other numerical problems.\n"
          ]
        }
      ],
      "source": [
        "# Multiple regression can also be performed by joining predictor variables with +\n",
        "# The following example uses the exam scores data introduced in simple linear regression above\n",
        "# Regressiona analysis is performed below using ordinary least squares (OLS) formula/function\n",
        "# See another example and tutorial here: https://www.statsmodels.org/dev/example_formulas.html\n",
        "\n",
        "import pandas as pd\n",
        "import scipy.stats as st\n",
        "import statsmodels.formula.api as smf\n",
        "scores = pd.read_csv('http://data-analytics.zybooks.com/ExamScores.csv')\n",
        "model = smf.ols('Exam4 ~ Exam1 + Exam2 + Exam3', scores).fit()\n",
        "print(model.summary())"
      ]
    },
    {
      "cell_type": "markdown",
      "metadata": {
        "id": "H0YglZJH3Gy5"
      },
      "source": [
        "<h1>\n",
        "<p style=\"color:green\"> Homework #7 Starts Here</p> </h1>"
      ]
    },
    {
      "cell_type": "markdown",
      "metadata": {
        "id": "TMmXT0LB3Gy6"
      },
      "source": [
        "<h1>\n",
        "<p style=\"color:red\"> 3-a: Multiple Linear Regression for the Heating Oil Case</p>\n",
        "</h1>\n",
        "\n",
        "<h3>\n",
        "<p style=\"color:red\"> NOTE: heating_oil.csv contains data on heating oil demand during past winter.\n",
        "    The heating_oil_scoring.csv contains data about new customers </p>\n",
        "</h3>\n"
      ]
    },
    {
      "cell_type": "markdown",
      "metadata": {
        "id": "t99w5agd3Gy6"
      },
      "source": [
        "### Read, understand, and run the following code. Using this code you read in training data"
      ]
    },
    {
      "cell_type": "code",
      "execution_count": null,
      "metadata": {
        "colab": {
          "base_uri": "https://localhost:8080/",
          "height": 204
        },
        "id": "3-KEDZJb3Gy7",
        "outputId": "40a9c6c0-5a76-4e9a-cd56-3b59ca7afecf"
      },
      "outputs": [
        {
          "output_type": "execute_result",
          "data": {
            "text/plain": [
              "   Insulation  Temperature  Heating_Oil  Num_Occupants  Avg_Age  Home_Size\n",
              "0           6           74          132              4     23.8          4\n",
              "1          10           43          263              4     56.7          4\n",
              "2           3           81          145              2     28.0          6\n",
              "3           9           50          196              4     45.1          3\n",
              "4           2           80          131              5     20.8          2"
            ],
            "text/html": [
              "\n",
              "  <div id=\"df-b7f5a8cd-5ba7-472e-ba6e-53ca1d8b8970\">\n",
              "    <div class=\"colab-df-container\">\n",
              "      <div>\n",
              "<style scoped>\n",
              "    .dataframe tbody tr th:only-of-type {\n",
              "        vertical-align: middle;\n",
              "    }\n",
              "\n",
              "    .dataframe tbody tr th {\n",
              "        vertical-align: top;\n",
              "    }\n",
              "\n",
              "    .dataframe thead th {\n",
              "        text-align: right;\n",
              "    }\n",
              "</style>\n",
              "<table border=\"1\" class=\"dataframe\">\n",
              "  <thead>\n",
              "    <tr style=\"text-align: right;\">\n",
              "      <th></th>\n",
              "      <th>Insulation</th>\n",
              "      <th>Temperature</th>\n",
              "      <th>Heating_Oil</th>\n",
              "      <th>Num_Occupants</th>\n",
              "      <th>Avg_Age</th>\n",
              "      <th>Home_Size</th>\n",
              "    </tr>\n",
              "  </thead>\n",
              "  <tbody>\n",
              "    <tr>\n",
              "      <th>0</th>\n",
              "      <td>6</td>\n",
              "      <td>74</td>\n",
              "      <td>132</td>\n",
              "      <td>4</td>\n",
              "      <td>23.8</td>\n",
              "      <td>4</td>\n",
              "    </tr>\n",
              "    <tr>\n",
              "      <th>1</th>\n",
              "      <td>10</td>\n",
              "      <td>43</td>\n",
              "      <td>263</td>\n",
              "      <td>4</td>\n",
              "      <td>56.7</td>\n",
              "      <td>4</td>\n",
              "    </tr>\n",
              "    <tr>\n",
              "      <th>2</th>\n",
              "      <td>3</td>\n",
              "      <td>81</td>\n",
              "      <td>145</td>\n",
              "      <td>2</td>\n",
              "      <td>28.0</td>\n",
              "      <td>6</td>\n",
              "    </tr>\n",
              "    <tr>\n",
              "      <th>3</th>\n",
              "      <td>9</td>\n",
              "      <td>50</td>\n",
              "      <td>196</td>\n",
              "      <td>4</td>\n",
              "      <td>45.1</td>\n",
              "      <td>3</td>\n",
              "    </tr>\n",
              "    <tr>\n",
              "      <th>4</th>\n",
              "      <td>2</td>\n",
              "      <td>80</td>\n",
              "      <td>131</td>\n",
              "      <td>5</td>\n",
              "      <td>20.8</td>\n",
              "      <td>2</td>\n",
              "    </tr>\n",
              "  </tbody>\n",
              "</table>\n",
              "</div>\n",
              "      <button class=\"colab-df-convert\" onclick=\"convertToInteractive('df-b7f5a8cd-5ba7-472e-ba6e-53ca1d8b8970')\"\n",
              "              title=\"Convert this dataframe to an interactive table.\"\n",
              "              style=\"display:none;\">\n",
              "        \n",
              "  <svg xmlns=\"http://www.w3.org/2000/svg\" height=\"24px\"viewBox=\"0 0 24 24\"\n",
              "       width=\"24px\">\n",
              "    <path d=\"M0 0h24v24H0V0z\" fill=\"none\"/>\n",
              "    <path d=\"M18.56 5.44l.94 2.06.94-2.06 2.06-.94-2.06-.94-.94-2.06-.94 2.06-2.06.94zm-11 1L8.5 8.5l.94-2.06 2.06-.94-2.06-.94L8.5 2.5l-.94 2.06-2.06.94zm10 10l.94 2.06.94-2.06 2.06-.94-2.06-.94-.94-2.06-.94 2.06-2.06.94z\"/><path d=\"M17.41 7.96l-1.37-1.37c-.4-.4-.92-.59-1.43-.59-.52 0-1.04.2-1.43.59L10.3 9.45l-7.72 7.72c-.78.78-.78 2.05 0 2.83L4 21.41c.39.39.9.59 1.41.59.51 0 1.02-.2 1.41-.59l7.78-7.78 2.81-2.81c.8-.78.8-2.07 0-2.86zM5.41 20L4 18.59l7.72-7.72 1.47 1.35L5.41 20z\"/>\n",
              "  </svg>\n",
              "      </button>\n",
              "      \n",
              "  <style>\n",
              "    .colab-df-container {\n",
              "      display:flex;\n",
              "      flex-wrap:wrap;\n",
              "      gap: 12px;\n",
              "    }\n",
              "\n",
              "    .colab-df-convert {\n",
              "      background-color: #E8F0FE;\n",
              "      border: none;\n",
              "      border-radius: 50%;\n",
              "      cursor: pointer;\n",
              "      display: none;\n",
              "      fill: #1967D2;\n",
              "      height: 32px;\n",
              "      padding: 0 0 0 0;\n",
              "      width: 32px;\n",
              "    }\n",
              "\n",
              "    .colab-df-convert:hover {\n",
              "      background-color: #E2EBFA;\n",
              "      box-shadow: 0px 1px 2px rgba(60, 64, 67, 0.3), 0px 1px 3px 1px rgba(60, 64, 67, 0.15);\n",
              "      fill: #174EA6;\n",
              "    }\n",
              "\n",
              "    [theme=dark] .colab-df-convert {\n",
              "      background-color: #3B4455;\n",
              "      fill: #D2E3FC;\n",
              "    }\n",
              "\n",
              "    [theme=dark] .colab-df-convert:hover {\n",
              "      background-color: #434B5C;\n",
              "      box-shadow: 0px 1px 3px 1px rgba(0, 0, 0, 0.15);\n",
              "      filter: drop-shadow(0px 1px 2px rgba(0, 0, 0, 0.3));\n",
              "      fill: #FFFFFF;\n",
              "    }\n",
              "  </style>\n",
              "\n",
              "      <script>\n",
              "        const buttonEl =\n",
              "          document.querySelector('#df-b7f5a8cd-5ba7-472e-ba6e-53ca1d8b8970 button.colab-df-convert');\n",
              "        buttonEl.style.display =\n",
              "          google.colab.kernel.accessAllowed ? 'block' : 'none';\n",
              "\n",
              "        async function convertToInteractive(key) {\n",
              "          const element = document.querySelector('#df-b7f5a8cd-5ba7-472e-ba6e-53ca1d8b8970');\n",
              "          const dataTable =\n",
              "            await google.colab.kernel.invokeFunction('convertToInteractive',\n",
              "                                                     [key], {});\n",
              "          if (!dataTable) return;\n",
              "\n",
              "          const docLinkHtml = 'Like what you see? Visit the ' +\n",
              "            '<a target=\"_blank\" href=https://colab.research.google.com/notebooks/data_table.ipynb>data table notebook</a>'\n",
              "            + ' to learn more about interactive tables.';\n",
              "          element.innerHTML = '';\n",
              "          dataTable['output_type'] = 'display_data';\n",
              "          await google.colab.output.renderOutput(dataTable, element);\n",
              "          const docLink = document.createElement('div');\n",
              "          docLink.innerHTML = docLinkHtml;\n",
              "          element.appendChild(docLink);\n",
              "        }\n",
              "      </script>\n",
              "    </div>\n",
              "  </div>\n",
              "  "
            ]
          },
          "metadata": {},
          "execution_count": 9
        }
      ],
      "source": [
        "# Linear Regression using Heating Oil data\n",
        "\n",
        "import pandas as pd\n",
        "import scipy.stats as st\n",
        "import statsmodels.formula.api as smf\n",
        "\n",
        "heating_oil_df = pd.read_csv('/content/heating_oil.csv')\n",
        "heating_oil_df.head()\n"
      ]
    },
    {
      "cell_type": "markdown",
      "metadata": {
        "id": "_LbrBBec3Gy8"
      },
      "source": [
        "### Read, understand, and run the following code. This code runs OLS regression analysis and generates a summary report"
      ]
    },
    {
      "cell_type": "code",
      "execution_count": null,
      "metadata": {
        "colab": {
          "base_uri": "https://localhost:8080/"
        },
        "id": "X80kjspB3Gy9",
        "outputId": "7f870132-7da4-4f68-bd71-2c731f840058"
      },
      "outputs": [
        {
          "output_type": "stream",
          "name": "stdout",
          "text": [
            "                            OLS Regression Results                            \n",
            "==============================================================================\n",
            "Dep. Variable:            Heating_Oil   R-squared:                       0.819\n",
            "Model:                            OLS   Adj. R-squared:                  0.819\n",
            "Method:                 Least Squares   F-statistic:                     1374.\n",
            "Date:                Wed, 15 Mar 2023   Prob (F-statistic):               0.00\n",
            "Time:                        05:21:10   Log-Likelihood:                -5594.3\n",
            "No. Observations:                1218   AIC:                         1.120e+04\n",
            "Df Residuals:                    1213   BIC:                         1.122e+04\n",
            "Df Model:                           4                                         \n",
            "Covariance Type:            nonrobust                                         \n",
            "===============================================================================\n",
            "                  coef    std err          t      P>|t|      [0.025      0.975]\n",
            "-------------------------------------------------------------------------------\n",
            "Intercept     134.5111      7.589     17.725      0.000     119.623     149.399\n",
            "Insulation      3.3230      0.420      7.906      0.000       2.498       4.148\n",
            "Temperature    -0.8692      0.071    -12.222      0.000      -1.009      -0.730\n",
            "Avg_Age         1.9680      0.065     30.217      0.000       1.840       2.096\n",
            "Home_Size       3.1733      0.311     10.210      0.000       2.563       3.783\n",
            "==============================================================================\n",
            "Omnibus:                      191.461   Durbin-Watson:                   2.056\n",
            "Prob(Omnibus):                  0.000   Jarque-Bera (JB):             1393.513\n",
            "Skew:                           0.506   Prob(JB):                    2.53e-303\n",
            "Kurtosis:                       8.141   Cond. No.                         873.\n",
            "==============================================================================\n",
            "\n",
            "Notes:\n",
            "[1] Standard Errors assume that the covariance matrix of the errors is correctly specified.\n"
          ]
        }
      ],
      "source": [
        "# Note: the symbol after Heating_oil is tilde ~  and not a minus sign (-)\n",
        "model = smf.ols('Heating_Oil ~ Insulation + Temperature + Avg_Age + Home_Size', heating_oil_df).fit()\n",
        "print(model.summary())"
      ]
    },
    {
      "cell_type": "markdown",
      "metadata": {
        "id": "nX14_DAP3Gy-"
      },
      "source": [
        "### Read, understand, and run the following code which creates a 3-D chart from heating oil data"
      ]
    },
    {
      "cell_type": "code",
      "execution_count": null,
      "metadata": {
        "colab": {
          "base_uri": "https://localhost:8080/",
          "height": 266
        },
        "id": "SaZA6rmv3Gy-",
        "outputId": "9a32c2b8-0f8f-4d98-8939-66d895d4a5c4"
      },
      "outputs": [
        {
          "output_type": "display_data",
          "data": {
            "text/plain": [
              "<Figure size 432x288 with 1 Axes>"
            ],
            "image/png": "[encoded data removed]"
          },
          "metadata": {
            "needs_background": "light"
          }
        }
      ],
      "source": [
        "from mpl_toolkits.mplot3d import Axes3D\n",
        "import matplotlib.pyplot as plt\n",
        "import pandas as pd\n",
        "df4 = pd.read_csv('/content/heating_oil.csv')\n",
        "fig = plt.figure()\n",
        "ax = fig.add_subplot(111, projection='3d')\n",
        "ax.scatter(df4['Home_Size'], df4['Temperature'], df4['Heating_Oil'], c='b', marker='o')\n",
        "ax.set_xlabel('Home_Size, X1')\n",
        "ax.set_ylabel('Temperature, X2')\n",
        "ax.set_zlabel('Heating_Oil, Y')\n",
        "plt.savefig(\"3Dscatterplot.png\")"
      ]
    },
    {
      "cell_type": "markdown",
      "metadata": {
        "id": "f4G8pZvD3Gy_"
      },
      "source": [
        "<h1>\n",
        "<p style=\"color:red\"> 3-b: Predicting heating oil demand for new customers during next winter </p>\n",
        "</h1>"
      ]
    },
    {
      "cell_type": "markdown",
      "metadata": {
        "id": "qPbnWGkS3Gy_"
      },
      "source": [
        "### Read, understand, and run the following code to predict demand for new customers"
      ]
    },
    {
      "cell_type": "code",
      "execution_count": null,
      "metadata": {
        "id": "7U25IMU43Gy_"
      },
      "outputs": [],
      "source": [
        "# Import the data file to use for prediction\n",
        "\n",
        "df5 = pd.read_csv('/content/heating_oil_scoring.csv')"
      ]
    },
    {
      "cell_type": "code",
      "execution_count": null,
      "metadata": {
        "colab": {
          "base_uri": "https://localhost:8080/"
        },
        "id": "20wYqNlX3GzA",
        "outputId": "e99f2b5f-9203-47f4-e400-f1e9274a38a4"
      },
      "outputs": [
        {
          "output_type": "execute_result",
          "data": {
            "text/plain": [
              "0    251.320516\n",
              "1    216.028317\n",
              "2    226.086630\n",
              "3    209.528860\n",
              "4    164.668705\n",
              "dtype: float64"
            ]
          },
          "metadata": {},
          "execution_count": 13
        }
      ],
      "source": [
        "# Predict demand for each new customer\n",
        "prediction = model.predict(df5)\n",
        "prediction.head()"
      ]
    },
    {
      "cell_type": "code",
      "execution_count": null,
      "metadata": {
        "colab": {
          "base_uri": "https://localhost:8080/"
        },
        "id": "0LQCLsNX3GzA",
        "outputId": "49e9d41d-4386-4728-b8b4-d32aa9eb42ae"
      },
      "outputs": [
        {
          "output_type": "execute_result",
          "data": {
            "text/plain": [
              "8519402.712492965"
            ]
          },
          "metadata": {},
          "execution_count": 14
        }
      ],
      "source": [
        "# Calculate total prdicted demand for all customers, in heating oil units\n",
        "# The company can use the total predicted demand and adjust it as/if necessary\n",
        "# to prepare for the expected demand\n",
        "\n",
        "prediction.sum()"
      ]
    },
    {
      "cell_type": "markdown",
      "metadata": {
        "collapsed": true,
        "id": "l9kdsotr3GzA"
      },
      "source": [
        "<h1>\n",
        "<p style=\"color:green\"> Add three markdown cells below. Each cell should contain a formatted report for the following three items. </h1>\n",
        "\n",
        "-\tWrite the equation of the model\n",
        "-\tInterpret quality of the model in terms of adjusted R2 and p-value\n",
        "-\tThe estimated oil demand for next year is based on certain assumptions. Please write what two such assumptions are so the purchasing manager of the heating oil company may adjust the estimated demand as/if necessary.\n",
        "</p>\n"
      ]
    },
    {
      "cell_type": "markdown",
      "source": [
        "**Write the equation of the model:**\n",
        "\n",
        "y = 134.5111+(3.3230)X1+(-0.8692)X2+(1.9680)X3+(3.173)X4"
      ],
      "metadata": {
        "id": "BxwnkIz8uGUX"
      }
    },
    {
      "cell_type": "markdown",
      "source": [
        "**Interpret quality of the model in terms of adjusted R^2 and p-value**\n",
        "\n",
        "The coefficient of determination, R2 or Adjusted R2 is the proportion of variance in the response variable explained by the proposed model. Generally, the higher this value, the better the model. In this case it's 0.819 which is pretty high and the p-value of all coefficients is low meaning the model is good."
      ],
      "metadata": {
        "id": "F4KRH6-d3MWn"
      }
    },
    {
      "cell_type": "markdown",
      "source": [
        "**The oil demand forecast generated by the model is based on the data from previous years. The estimated (forecasted) demand could vary due to a number of factors that affect oil demand. Please write two factors that might affect oil demand next year so the purchasing manager of the heating oil company may adjust the oil demand estimate accordingly.**\n",
        "\n",
        "Two factors that might affect oil demand next year include insulation and home size because these coefficients are the two largest in the model, making them the most critical."
      ],
      "metadata": {
        "id": "2Y_7hVNq3M8V"
      }
    }
  ],
  "metadata": {
    "kernelspec": {
      "display_name": "Python 3 (ipykernel)",
      "language": "python",
      "name": "python3"
    },
    "language_info": {
      "codemirror_mode": {
        "name": "ipython",
        "version": 3
      },
      "file_extension": ".py",
      "mimetype": "text/x-python",
      "name": "python",
      "nbconvert_exporter": "python",
      "pygments_lexer": "ipython3",
      "version": "3.9.7"
    },
    "colab": {
      "provenance": [],
      "include_colab_link": true
    }
  },
  "nbformat": 4,
  "nbformat_minor": 0
}